{
 "cells": [
  {
   "cell_type": "markdown",
   "metadata": {},
   "source": [
    "# Phase 2 Project"
   ]
  },
  {
   "cell_type": "markdown",
   "metadata": {},
   "source": [
    "## Starting with the biggest data set of the project, the iMdb"
   ]
  },
  {
   "cell_type": "markdown",
   "metadata": {},
   "source": [
    "## imdb Entity Relationship Diagram (ERD):"
   ]
  },
  {
   "cell_type": "markdown",
   "metadata": {},
   "source": [
    "![title_airplane](./Images/db_chart.jpg)"
   ]
  },
  {
   "cell_type": "markdown",
   "metadata": {},
   "source": [
    "## Initial importing etc..."
   ]
  },
  {
   "cell_type": "code",
   "execution_count": 4,
   "metadata": {},
   "outputs": [],
   "source": [
    "import pandas as pd\n",
    "import sqlite3 as sql\n",
    "import matplotlib.pyplot as plt\n",
    "import seaborn as sns\n",
    "import numpy as np\n"
   ]
  },
  {
   "cell_type": "code",
   "execution_count": 5,
   "metadata": {},
   "outputs": [],
   "source": [
    "# will be looking at a lot of tables, so make a report\n",
    "def df_report(df):\n",
    "    print(df.info())\n",
    "    print('===========================================================\\n')\n",
    "    print(df.describe())\n",
    "    print('===========================================================\\n')\n",
    "    print(df.head())\n",
    "    "
   ]
  },
  {
   "cell_type": "code",
   "execution_count": 6,
   "metadata": {},
   "outputs": [],
   "source": [
    "# Set up the sql connection to im.db\n",
    "conn = sql.connect(\"Data\\\\im.db\")"
   ]
  },
  {
   "cell_type": "code",
   "execution_count": 7,
   "metadata": {},
   "outputs": [
    {
     "data": {
      "text/html": [
       "<div>\n",
       "<style scoped>\n",
       "    .dataframe tbody tr th:only-of-type {\n",
       "        vertical-align: middle;\n",
       "    }\n",
       "\n",
       "    .dataframe tbody tr th {\n",
       "        vertical-align: top;\n",
       "    }\n",
       "\n",
       "    .dataframe thead th {\n",
       "        text-align: right;\n",
       "    }\n",
       "</style>\n",
       "<table border=\"1\" class=\"dataframe\">\n",
       "  <thead>\n",
       "    <tr style=\"text-align: right;\">\n",
       "      <th></th>\n",
       "      <th>name</th>\n",
       "    </tr>\n",
       "  </thead>\n",
       "  <tbody>\n",
       "    <tr>\n",
       "      <th>0</th>\n",
       "      <td>movie_basics</td>\n",
       "    </tr>\n",
       "    <tr>\n",
       "      <th>1</th>\n",
       "      <td>directors</td>\n",
       "    </tr>\n",
       "    <tr>\n",
       "      <th>2</th>\n",
       "      <td>known_for</td>\n",
       "    </tr>\n",
       "    <tr>\n",
       "      <th>3</th>\n",
       "      <td>movie_akas</td>\n",
       "    </tr>\n",
       "    <tr>\n",
       "      <th>4</th>\n",
       "      <td>movie_ratings</td>\n",
       "    </tr>\n",
       "    <tr>\n",
       "      <th>5</th>\n",
       "      <td>persons</td>\n",
       "    </tr>\n",
       "    <tr>\n",
       "      <th>6</th>\n",
       "      <td>principals</td>\n",
       "    </tr>\n",
       "    <tr>\n",
       "      <th>7</th>\n",
       "      <td>writers</td>\n",
       "    </tr>\n",
       "  </tbody>\n",
       "</table>\n",
       "</div>"
      ],
      "text/plain": [
       "            name\n",
       "0   movie_basics\n",
       "1      directors\n",
       "2      known_for\n",
       "3     movie_akas\n",
       "4  movie_ratings\n",
       "5        persons\n",
       "6     principals\n",
       "7        writers"
      ]
     },
     "execution_count": 7,
     "metadata": {},
     "output_type": "execute_result"
    }
   ],
   "source": [
    "# Have a look at the tables in the imdb\n",
    "tables_df = pd.read_sql(\"\"\"SELECT name FROM sqlite_master WHERE type = 'table';\"\"\", conn)\n",
    "tables_df"
   ]
  },
  {
   "cell_type": "markdown",
   "metadata": {},
   "source": [
    "---"
   ]
  },
  {
   "cell_type": "markdown",
   "metadata": {},
   "source": [
    "## Seems logical to start with movie_basics looking at the db org chart above"
   ]
  },
  {
   "cell_type": "code",
   "execution_count": 8,
   "metadata": {},
   "outputs": [],
   "source": [
    "movie_basics_df = pd.read_sql(f\"\"\"\n",
    "    SELECT *\n",
    "    FROM\n",
    "        movie_basics\n",
    "    \"\"\", conn)"
   ]
  },
  {
   "cell_type": "code",
   "execution_count": 9,
   "metadata": {},
   "outputs": [
    {
     "name": "stdout",
     "output_type": "stream",
     "text": [
      "<class 'pandas.core.frame.DataFrame'>\n",
      "RangeIndex: 146144 entries, 0 to 146143\n",
      "Data columns (total 6 columns):\n",
      " #   Column           Non-Null Count   Dtype  \n",
      "---  ------           --------------   -----  \n",
      " 0   movie_id         146144 non-null  object \n",
      " 1   primary_title    146144 non-null  object \n",
      " 2   original_title   146123 non-null  object \n",
      " 3   start_year       146144 non-null  int64  \n",
      " 4   runtime_minutes  114405 non-null  float64\n",
      " 5   genres           140736 non-null  object \n",
      "dtypes: float64(1), int64(1), object(4)\n",
      "memory usage: 6.7+ MB\n",
      "None\n",
      "===========================================================\n",
      "\n",
      "          start_year  runtime_minutes\n",
      "count  146144.000000    114405.000000\n",
      "mean     2014.621798        86.187247\n",
      "std         2.733583       166.360590\n",
      "min      2010.000000         1.000000\n",
      "25%      2012.000000        70.000000\n",
      "50%      2015.000000        87.000000\n",
      "75%      2017.000000        99.000000\n",
      "max      2115.000000     51420.000000\n",
      "===========================================================\n",
      "\n",
      "    movie_id                    primary_title              original_title  \\\n",
      "0  tt0063540                        Sunghursh                   Sunghursh   \n",
      "1  tt0066787  One Day Before the Rainy Season             Ashad Ka Ek Din   \n",
      "2  tt0069049       The Other Side of the Wind  The Other Side of the Wind   \n",
      "3  tt0069204                  Sabse Bada Sukh             Sabse Bada Sukh   \n",
      "4  tt0100275         The Wandering Soap Opera       La Telenovela Errante   \n",
      "\n",
      "   start_year  runtime_minutes                genres  \n",
      "0        2013            175.0    Action,Crime,Drama  \n",
      "1        2019            114.0       Biography,Drama  \n",
      "2        2018            122.0                 Drama  \n",
      "3        2018              NaN          Comedy,Drama  \n",
      "4        2017             80.0  Comedy,Drama,Fantasy  \n"
     ]
    }
   ],
   "source": [
    "df_report(movie_basics_df)"
   ]
  },
  {
   "cell_type": "markdown",
   "metadata": {},
   "source": [
    "#### Theres a start date 2115, lets have a look at future start dates"
   ]
  },
  {
   "cell_type": "code",
   "execution_count": 10,
   "metadata": {},
   "outputs": [
    {
     "name": "stdout",
     "output_type": "stream",
     "text": [
      "<class 'pandas.core.frame.DataFrame'>\n",
      "Int64Index: 4 entries, 2949 to 96592\n",
      "Data columns (total 6 columns):\n",
      " #   Column           Non-Null Count  Dtype  \n",
      "---  ------           --------------  -----  \n",
      " 0   movie_id         4 non-null      object \n",
      " 1   primary_title    4 non-null      object \n",
      " 2   original_title   4 non-null      object \n",
      " 3   start_year       4 non-null      int64  \n",
      " 4   runtime_minutes  0 non-null      float64\n",
      " 5   genres           4 non-null      object \n",
      "dtypes: float64(1), int64(1), object(4)\n",
      "memory usage: 224.0+ bytes\n",
      "None\n",
      "===========================================================\n",
      "\n",
      "       start_year  runtime_minutes\n",
      "count     4.00000              0.0\n",
      "mean   2048.25000              NaN\n",
      "std      44.50749              NaN\n",
      "min    2025.00000              NaN\n",
      "25%    2025.75000              NaN\n",
      "50%    2026.50000              NaN\n",
      "75%    2049.00000              NaN\n",
      "max    2115.00000              NaN\n",
      "===========================================================\n",
      "\n",
      "         movie_id            primary_title           original_title  \\\n",
      "2949   tt10300398  Untitled Star Wars Film  Untitled Star Wars Film   \n",
      "52213   tt3095356                 Avatar 4                 Avatar 4   \n",
      "89506   tt5174640                100 Years                100 Years   \n",
      "96592   tt5637536                 Avatar 5                 Avatar 5   \n",
      "\n",
      "       start_year  runtime_minutes                    genres  \n",
      "2949         2026              NaN                   Fantasy  \n",
      "52213        2025              NaN  Action,Adventure,Fantasy  \n",
      "89506        2115              NaN                     Drama  \n",
      "96592        2027              NaN  Action,Adventure,Fantasy  \n"
     ]
    }
   ],
   "source": [
    "# some with start dates that haven't occurred yet, lets have a look:\n",
    "df_report(movie_basics_df.query('start_year > 2024'))\n"
   ]
  },
  {
   "cell_type": "markdown",
   "metadata": {},
   "source": [
    "#### There are only 4 with future start dates, remove them"
   ]
  },
  {
   "cell_type": "code",
   "execution_count": 11,
   "metadata": {},
   "outputs": [
    {
     "name": "stdout",
     "output_type": "stream",
     "text": [
      "<class 'pandas.core.frame.DataFrame'>\n",
      "Int64Index: 146140 entries, 0 to 146143\n",
      "Data columns (total 6 columns):\n",
      " #   Column           Non-Null Count   Dtype  \n",
      "---  ------           --------------   -----  \n",
      " 0   movie_id         146140 non-null  object \n",
      " 1   primary_title    146140 non-null  object \n",
      " 2   original_title   146119 non-null  object \n",
      " 3   start_year       146140 non-null  int64  \n",
      " 4   runtime_minutes  114405 non-null  float64\n",
      " 5   genres           140732 non-null  object \n",
      "dtypes: float64(1), int64(1), object(4)\n",
      "memory usage: 7.8+ MB\n",
      "None\n",
      "===========================================================\n",
      "\n",
      "          start_year  runtime_minutes\n",
      "count  146140.000000    114405.000000\n",
      "mean     2014.620877        86.187247\n",
      "std         2.720489       166.360590\n",
      "min      2010.000000         1.000000\n",
      "25%      2012.000000        70.000000\n",
      "50%      2015.000000        87.000000\n",
      "75%      2017.000000        99.000000\n",
      "max      2024.000000     51420.000000\n",
      "===========================================================\n",
      "\n",
      "    movie_id                    primary_title              original_title  \\\n",
      "0  tt0063540                        Sunghursh                   Sunghursh   \n",
      "1  tt0066787  One Day Before the Rainy Season             Ashad Ka Ek Din   \n",
      "2  tt0069049       The Other Side of the Wind  The Other Side of the Wind   \n",
      "3  tt0069204                  Sabse Bada Sukh             Sabse Bada Sukh   \n",
      "4  tt0100275         The Wandering Soap Opera       La Telenovela Errante   \n",
      "\n",
      "   start_year  runtime_minutes                genres  \n",
      "0        2013            175.0    Action,Crime,Drama  \n",
      "1        2019            114.0       Biography,Drama  \n",
      "2        2018            122.0                 Drama  \n",
      "3        2018              NaN          Comedy,Drama  \n",
      "4        2017             80.0  Comedy,Drama,Fantasy  \n"
     ]
    }
   ],
   "source": [
    "# they were all movies yet to occur, lets get rid of them\n",
    "movie_basics_df = movie_basics_df.query('start_year < 2025')\n",
    "df_report(movie_basics_df)"
   ]
  },
  {
   "cell_type": "markdown",
   "metadata": {},
   "source": [
    "#### Investigating runtime_minutes outliers:"
   ]
  },
  {
   "cell_type": "code",
   "execution_count": 12,
   "metadata": {},
   "outputs": [
    {
     "data": {
      "text/plain": [
       "<AxesSubplot:>"
      ]
     },
     "execution_count": 12,
     "metadata": {},
     "output_type": "execute_result"
    },
    {
     "data": {
      "image/png": "[encoded data removed]",
      "text/plain": [
       "<Figure size 432x288 with 1 Axes>"
      ]
     },
     "metadata": {
      "needs_background": "light"
     },
     "output_type": "display_data"
    }
   ],
   "source": [
    "sns.boxplot(movie_basics_df.runtime_minutes)"
   ]
  },
  {
   "cell_type": "markdown",
   "metadata": {},
   "source": [
    "#### Without extreme outliers:"
   ]
  },
  {
   "cell_type": "code",
   "execution_count": 13,
   "metadata": {},
   "outputs": [
    {
     "data": {
      "image/png": "[encoded data removed]",
      "text/plain": [
       "<Figure size 432x288 with 1 Axes>"
      ]
     },
     "metadata": {
      "needs_background": "light"
     },
     "output_type": "display_data"
    }
   ],
   "source": [
    "sns.boxplot(movie_basics_df.query('runtime_minutes < 10000').runtime_minutes);"
   ]
  },
  {
   "cell_type": "markdown",
   "metadata": {},
   "source": [
    "#### Lets assume stakerholders are not interested in very long (>4hr) movies"
   ]
  },
  {
   "cell_type": "code",
   "execution_count": 14,
   "metadata": {},
   "outputs": [
    {
     "data": {
      "image/png": "[encoded data removed]",
      "text/plain": [
       "<Figure size 432x288 with 1 Axes>"
      ]
     },
     "metadata": {
      "needs_background": "light"
     },
     "output_type": "display_data"
    }
   ],
   "source": [
    "sns.boxplot(movie_basics_df.query('runtime_minutes < 240').runtime_minutes);"
   ]
  },
  {
   "cell_type": "markdown",
   "metadata": {},
   "source": [
    "#### This doesn't look to far from normal distribution now, lets go ahead and remove movies over 4hr"
   ]
  },
  {
   "cell_type": "code",
   "execution_count": 15,
   "metadata": {},
   "outputs": [
    {
     "data": {
      "image/png": "[encoded data removed]",
      "text/plain": [
       "<Figure size 432x288 with 1 Axes>"
      ]
     },
     "metadata": {
      "needs_background": "light"
     },
     "output_type": "display_data"
    }
   ],
   "source": [
    "movie_basics_df = movie_basics_df.query('runtime_minutes <= 240')\n",
    "movie_basics_df.runtime_minutes.hist();"
   ]
  },
  {
   "cell_type": "markdown",
   "metadata": {},
   "source": [
    "#### Lets see if the very short movies distribution make sense:"
   ]
  },
  {
   "cell_type": "code",
   "execution_count": 16,
   "metadata": {},
   "outputs": [
    {
     "data": {
      "image/png": "[encoded data removed]",
      "text/plain": [
       "<Figure size 432x288 with 1 Axes>"
      ]
     },
     "metadata": {
      "needs_background": "light"
     },
     "output_type": "display_data"
    }
   ],
   "source": [
    "movie_basics_df.query('runtime_minutes < 30').runtime_minutes.hist();"
   ]
  },
  {
   "cell_type": "markdown",
   "metadata": {},
   "source": [
    "#### No extreme outliers within the <30min group, lets leave it be"
   ]
  },
  {
   "cell_type": "markdown",
   "metadata": {},
   "source": [
    "#### Lets look at null values"
   ]
  },
  {
   "cell_type": "code",
   "execution_count": 17,
   "metadata": {},
   "outputs": [
    {
     "name": "stdout",
     "output_type": "stream",
     "text": [
      "<class 'pandas.core.frame.DataFrame'>\n",
      "Int64Index: 114198 entries, 0 to 146142\n",
      "Data columns (total 6 columns):\n",
      " #   Column           Non-Null Count   Dtype  \n",
      "---  ------           --------------   -----  \n",
      " 0   movie_id         114198 non-null  object \n",
      " 1   primary_title    114198 non-null  object \n",
      " 2   original_title   114194 non-null  object \n",
      " 3   start_year       114198 non-null  int64  \n",
      " 4   runtime_minutes  114198 non-null  float64\n",
      " 5   genres           112033 non-null  object \n",
      "dtypes: float64(1), int64(1), object(4)\n",
      "memory usage: 6.1+ MB\n",
      "None\n",
      "===========================================================\n",
      "\n",
      "          start_year  runtime_minutes\n",
      "count  114198.000000    114198.000000\n",
      "mean     2014.397109        84.620133\n",
      "std         2.637350        27.782978\n",
      "min      2010.000000         1.000000\n",
      "25%      2012.000000        70.000000\n",
      "50%      2014.000000        87.000000\n",
      "75%      2017.000000        99.000000\n",
      "max      2022.000000       240.000000\n",
      "===========================================================\n",
      "\n",
      "    movie_id                    primary_title              original_title  \\\n",
      "0  tt0063540                        Sunghursh                   Sunghursh   \n",
      "1  tt0066787  One Day Before the Rainy Season             Ashad Ka Ek Din   \n",
      "2  tt0069049       The Other Side of the Wind  The Other Side of the Wind   \n",
      "4  tt0100275         The Wandering Soap Opera       La Telenovela Errante   \n",
      "5  tt0111414                      A Thin Life                 A Thin Life   \n",
      "\n",
      "   start_year  runtime_minutes                genres  \n",
      "0        2013            175.0    Action,Crime,Drama  \n",
      "1        2019            114.0       Biography,Drama  \n",
      "2        2018            122.0                 Drama  \n",
      "4        2017             80.0  Comedy,Drama,Fantasy  \n",
      "5        2018             75.0                Comedy  \n"
     ]
    }
   ],
   "source": [
    "df_report(movie_basics_df)"
   ]
  },
  {
   "cell_type": "markdown",
   "metadata": {},
   "source": [
    "#### Replace the nulls in string columns with 'data missing': 'genres' is catagorical so we can keep the data for these rows, 'original_title' only has 4 records, we will probably not care about this column anyway"
   ]
  },
  {
   "cell_type": "code",
   "execution_count": 18,
   "metadata": {},
   "outputs": [
    {
     "name": "stdout",
     "output_type": "stream",
     "text": [
      "<class 'pandas.core.frame.DataFrame'>\n",
      "Int64Index: 114198 entries, 0 to 146142\n",
      "Data columns (total 6 columns):\n",
      " #   Column           Non-Null Count   Dtype  \n",
      "---  ------           --------------   -----  \n",
      " 0   movie_id         114198 non-null  object \n",
      " 1   primary_title    114198 non-null  object \n",
      " 2   original_title   114198 non-null  object \n",
      " 3   start_year       114198 non-null  int64  \n",
      " 4   runtime_minutes  114198 non-null  float64\n",
      " 5   genres           114198 non-null  object \n",
      "dtypes: float64(1), int64(1), object(4)\n",
      "memory usage: 6.1+ MB\n",
      "None\n",
      "===========================================================\n",
      "\n",
      "          start_year  runtime_minutes\n",
      "count  114198.000000    114198.000000\n",
      "mean     2014.397109        84.620133\n",
      "std         2.637350        27.782978\n",
      "min      2010.000000         1.000000\n",
      "25%      2012.000000        70.000000\n",
      "50%      2014.000000        87.000000\n",
      "75%      2017.000000        99.000000\n",
      "max      2022.000000       240.000000\n",
      "===========================================================\n",
      "\n",
      "    movie_id                    primary_title              original_title  \\\n",
      "0  tt0063540                        Sunghursh                   Sunghursh   \n",
      "1  tt0066787  One Day Before the Rainy Season             Ashad Ka Ek Din   \n",
      "2  tt0069049       The Other Side of the Wind  The Other Side of the Wind   \n",
      "4  tt0100275         The Wandering Soap Opera       La Telenovela Errante   \n",
      "5  tt0111414                      A Thin Life                 A Thin Life   \n",
      "\n",
      "   start_year  runtime_minutes                genres  \n",
      "0        2013            175.0    Action,Crime,Drama  \n",
      "1        2019            114.0       Biography,Drama  \n",
      "2        2018            122.0                 Drama  \n",
      "4        2017             80.0  Comedy,Drama,Fantasy  \n",
      "5        2018             75.0                Comedy  \n"
     ]
    }
   ],
   "source": [
    "movie_basics_df.fillna('data missing', inplace=True)\n",
    "df_report(movie_basics_df)"
   ]
  },
  {
   "cell_type": "code",
   "execution_count": 19,
   "metadata": {},
   "outputs": [
    {
     "data": {
      "image/png": "[encoded data removed]",
      "text/plain": [
       "<Figure size 432x288 with 2 Axes>"
      ]
     },
     "metadata": {
      "needs_background": "light"
     },
     "output_type": "display_data"
    }
   ],
   "source": [
    "movie_basics_df.hist();"
   ]
  },
  {
   "cell_type": "markdown",
   "metadata": {},
   "source": [
    "#### All missingness taken care of, outliers removed"
   ]
  },
  {
   "cell_type": "markdown",
   "metadata": {},
   "source": [
    "#### We want to unpack the 'genres' column into distict columns for better genre slicing and analysis\n",
    "#### ***NOTE: This maybe should come later in feature engineering (or not at all), putting it in for now***"
   ]
  },
  {
   "cell_type": "code",
   "execution_count": 20,
   "metadata": {},
   "outputs": [],
   "source": [
    "# We will use 0 or 1 instead of True and False for easier analysis later on\n",
    "\n",
    "def split_genres(genres):\n",
    "    \"\"\"\n",
    "    takes a string input comma delimeted\n",
    "    returns a list of words\n",
    "    \"\"\"\n",
    "    genre_list = []\n",
    "    if genres != None:     \n",
    "        for genre in genres.split(','):\n",
    "            genre_list.append(genre)\n",
    "    return genre_list\n",
    "\n",
    "def assign_genre(row):\n",
    "    \"\"\"\n",
    "    takes a row from df and \n",
    "    assigns True to any field that is in the row.genres\n",
    "    returns the modified row\n",
    "    \"\"\"\n",
    "    genres = split_genres(row['genres'])\n",
    "    for genre in genres:\n",
    "        row[genre] = 1\n",
    "    return row\n",
    "\n",
    "# Loop through the genres column and collect all distinct genres keywords\n",
    "genres_set = set([])\n",
    "for genres in movie_basics_df.genres:\n",
    "    for word in split_genres(genres):\n",
    "        genres_set.add(word)\n",
    "\n",
    "# Create a column in the df for each distinct genre, instantiate with 0\n",
    "for genre in genres_set:\n",
    "    movie_basics_df[genre] = 0\n",
    "        \n",
    "# Assign 1 to any of the new genre fields whos row 'genres' field contains that genre\n",
    "movie_basics_df = movie_basics_df.apply(assign_genre, axis=1)\n"
   ]
  },
  {
   "cell_type": "code",
   "execution_count": 21,
   "metadata": {},
   "outputs": [
    {
     "data": {
      "image/png": "[encoded data removed]",
      "text/plain": [
       "<Figure size 432x288 with 1 Axes>"
      ]
     },
     "metadata": {
      "needs_background": "light"
     },
     "output_type": "display_data"
    }
   ],
   "source": [
    "genre_sums = movie_basics_df[genres_set].sum().sort_values(ascending=False)\n",
    "genre_sums.plot(kind='bar');"
   ]
  },
  {
   "cell_type": "code",
   "execution_count": 25,
   "metadata": {},
   "outputs": [
    {
     "data": {
      "text/plain": [
       "0.011067997893757444"
      ]
     },
     "execution_count": 25,
     "metadata": {},
     "output_type": "execute_result"
    }
   ],
   "source": [
    "\n",
    "genre_sums['data missing'] / genre_sums.sum()\n"
   ]
  },
  {
   "cell_type": "markdown",
   "metadata": {},
   "source": [
    "---"
   ]
  },
  {
   "cell_type": "markdown",
   "metadata": {},
   "source": [
    "## Lets take a look at 'connector' tables: known_for, directors, writers"
   ]
  },
  {
   "cell_type": "code",
   "execution_count": 311,
   "metadata": {},
   "outputs": [
    {
     "name": "stdout",
     "output_type": "stream",
     "text": [
      "<class 'pandas.core.frame.DataFrame'>\n",
      "RangeIndex: 1638260 entries, 0 to 1638259\n",
      "Data columns (total 2 columns):\n",
      " #   Column     Non-Null Count    Dtype \n",
      "---  ------     --------------    ----- \n",
      " 0   person_id  1638260 non-null  object\n",
      " 1   movie_id   1638260 non-null  object\n",
      "dtypes: object(2)\n",
      "memory usage: 25.0+ MB\n"
     ]
    }
   ],
   "source": [
    "known_for_df = pd.read_sql(\"\"\"\n",
    "                    SELECT *\n",
    "                    FROM\n",
    "                        known_for\n",
    "                    \"\"\", conn)\n",
    "known_for_df.info()"
   ]
  },
  {
   "cell_type": "code",
   "execution_count": 312,
   "metadata": {},
   "outputs": [
    {
     "name": "stdout",
     "output_type": "stream",
     "text": [
      "<class 'pandas.core.frame.DataFrame'>\n",
      "RangeIndex: 291174 entries, 0 to 291173\n",
      "Data columns (total 2 columns):\n",
      " #   Column     Non-Null Count   Dtype \n",
      "---  ------     --------------   ----- \n",
      " 0   movie_id   291174 non-null  object\n",
      " 1   person_id  291174 non-null  object\n",
      "dtypes: object(2)\n",
      "memory usage: 4.4+ MB\n"
     ]
    }
   ],
   "source": [
    "directors_df = pd.read_sql(\"\"\"\n",
    "                    SELECT *\n",
    "                    FROM\n",
    "                        directors\n",
    "                    \"\"\", conn)\n",
    "directors_df.info()"
   ]
  },
  {
   "cell_type": "code",
   "execution_count": 313,
   "metadata": {},
   "outputs": [
    {
     "name": "stdout",
     "output_type": "stream",
     "text": [
      "<class 'pandas.core.frame.DataFrame'>\n",
      "RangeIndex: 255873 entries, 0 to 255872\n",
      "Data columns (total 2 columns):\n",
      " #   Column     Non-Null Count   Dtype \n",
      "---  ------     --------------   ----- \n",
      " 0   movie_id   255873 non-null  object\n",
      " 1   person_id  255873 non-null  object\n",
      "dtypes: object(2)\n",
      "memory usage: 3.9+ MB\n"
     ]
    }
   ],
   "source": [
    "writers_df = pd.read_sql(\"\"\"\n",
    "                    SELECT *\n",
    "                    FROM\n",
    "                        writers\n",
    "                    \"\"\", conn)\n",
    "writers_df.info()"
   ]
  },
  {
   "cell_type": "markdown",
   "metadata": {},
   "source": [
    "#### No missingness in the 'connector' tables lets move on\n",
    "___"
   ]
  },
  {
   "cell_type": "markdown",
   "metadata": {},
   "source": [
    "## Take a look at persons table"
   ]
  },
  {
   "cell_type": "code",
   "execution_count": 314,
   "metadata": {},
   "outputs": [
    {
     "name": "stdout",
     "output_type": "stream",
     "text": [
      "<class 'pandas.core.frame.DataFrame'>\n",
      "RangeIndex: 606648 entries, 0 to 606647\n",
      "Data columns (total 5 columns):\n",
      " #   Column              Non-Null Count   Dtype  \n",
      "---  ------              --------------   -----  \n",
      " 0   person_id           606648 non-null  object \n",
      " 1   primary_name        606648 non-null  object \n",
      " 2   birth_year          82736 non-null   float64\n",
      " 3   death_year          6783 non-null    float64\n",
      " 4   primary_profession  555308 non-null  object \n",
      "dtypes: float64(2), object(3)\n",
      "memory usage: 23.1+ MB\n",
      "None\n",
      "===========================================================\n",
      "\n",
      "         birth_year   death_year\n",
      "count  82736.000000  6783.000000\n",
      "mean    1967.043826  2000.523367\n",
      "std       22.122190    43.951530\n",
      "min        1.000000    17.000000\n",
      "25%     1957.000000  2001.000000\n",
      "50%     1971.000000  2013.000000\n",
      "75%     1981.000000  2016.000000\n",
      "max     2014.000000  2019.000000\n",
      "===========================================================\n",
      "\n",
      "   person_id       primary_name  birth_year  death_year  \\\n",
      "0  nm0061671  Mary Ellen Bauder         NaN         NaN   \n",
      "1  nm0061865       Joseph Bauer         NaN         NaN   \n",
      "2  nm0062070         Bruce Baum         NaN         NaN   \n",
      "3  nm0062195       Axel Baumann         NaN         NaN   \n",
      "4  nm0062798        Pete Baxter         NaN         NaN   \n",
      "\n",
      "                                 primary_profession  \n",
      "0         miscellaneous,production_manager,producer  \n",
      "1        composer,music_department,sound_department  \n",
      "2                        miscellaneous,actor,writer  \n",
      "3  camera_department,cinematographer,art_department  \n",
      "4  production_designer,art_department,set_decorator  \n"
     ]
    }
   ],
   "source": [
    "persons_df = pd.read_sql(\"\"\"\n",
    "                    SELECT *\n",
    "                    FROM\n",
    "                        persons\n",
    "                    \"\"\", conn)\n",
    "df_report(persons_df)"
   ]
  },
  {
   "cell_type": "markdown",
   "metadata": {},
   "source": [
    "#### key fields here are person_id, primary_name and they are not missing data.  We will probably not use the other columns, lets move on\n",
    "---"
   ]
  },
  {
   "cell_type": "markdown",
   "metadata": {},
   "source": [
    "## Take a look at principals table"
   ]
  },
  {
   "cell_type": "code",
   "execution_count": 315,
   "metadata": {},
   "outputs": [
    {
     "name": "stdout",
     "output_type": "stream",
     "text": [
      "<class 'pandas.core.frame.DataFrame'>\n",
      "RangeIndex: 1028186 entries, 0 to 1028185\n",
      "Data columns (total 6 columns):\n",
      " #   Column      Non-Null Count    Dtype \n",
      "---  ------      --------------    ----- \n",
      " 0   movie_id    1028186 non-null  object\n",
      " 1   ordering    1028186 non-null  int64 \n",
      " 2   person_id   1028186 non-null  object\n",
      " 3   category    1028186 non-null  object\n",
      " 4   job         177684 non-null   object\n",
      " 5   characters  393360 non-null   object\n",
      "dtypes: int64(1), object(5)\n",
      "memory usage: 47.1+ MB\n",
      "None\n",
      "===========================================================\n",
      "\n",
      "           ordering\n",
      "count  1.028186e+06\n",
      "mean   4.739847e+00\n",
      "std    2.747446e+00\n",
      "min    1.000000e+00\n",
      "25%    2.000000e+00\n",
      "50%    4.000000e+00\n",
      "75%    7.000000e+00\n",
      "max    1.000000e+01\n",
      "===========================================================\n",
      "\n",
      "    movie_id  ordering  person_id  category       job        characters\n",
      "0  tt0111414         1  nm0246005     actor      None       [\"The Man\"]\n",
      "1  tt0111414         2  nm0398271  director      None              None\n",
      "2  tt0111414         3  nm3739909  producer  producer              None\n",
      "3  tt0323808        10  nm0059247    editor      None              None\n",
      "4  tt0323808         1  nm3579312   actress      None  [\"Beth Boothby\"]\n"
     ]
    }
   ],
   "source": [
    "principals_df = pd.read_sql(\"\"\"\n",
    "                    SELECT *\n",
    "                    FROM\n",
    "                        principals\n",
    "                    \"\"\", conn)\n",
    "df_report(principals_df)"
   ]
  },
  {
   "cell_type": "markdown",
   "metadata": {},
   "source": [
    "#### The only missingness here is in job and characters, and we might not even use this table lets move on\n",
    "---"
   ]
  },
  {
   "cell_type": "markdown",
   "metadata": {},
   "source": [
    "## Take a look at movie_akas table"
   ]
  },
  {
   "cell_type": "code",
   "execution_count": 316,
   "metadata": {},
   "outputs": [
    {
     "name": "stdout",
     "output_type": "stream",
     "text": [
      "<class 'pandas.core.frame.DataFrame'>\n",
      "RangeIndex: 331703 entries, 0 to 331702\n",
      "Data columns (total 8 columns):\n",
      " #   Column             Non-Null Count   Dtype  \n",
      "---  ------             --------------   -----  \n",
      " 0   movie_id           331703 non-null  object \n",
      " 1   ordering           331703 non-null  int64  \n",
      " 2   title              331703 non-null  object \n",
      " 3   region             278410 non-null  object \n",
      " 4   language           41715 non-null   object \n",
      " 5   types              168447 non-null  object \n",
      " 6   attributes         14925 non-null   object \n",
      " 7   is_original_title  331678 non-null  float64\n",
      "dtypes: float64(1), int64(1), object(6)\n",
      "memory usage: 20.2+ MB\n",
      "None\n",
      "===========================================================\n",
      "\n",
      "            ordering  is_original_title\n",
      "count  331703.000000      331678.000000\n",
      "mean        5.125872           0.134769\n",
      "std         6.706664           0.341477\n",
      "min         1.000000           0.000000\n",
      "25%         1.000000           0.000000\n",
      "50%         2.000000           0.000000\n",
      "75%         6.000000           0.000000\n",
      "max        61.000000           1.000000\n",
      "===========================================================\n",
      "\n",
      "    movie_id  ordering                                    title region  \\\n",
      "0  tt0369610        10                            Джурасик свят     BG   \n",
      "1  tt0369610        11                        Jurashikku warudo     JP   \n",
      "2  tt0369610        12  Jurassic World: O Mundo dos Dinossauros     BR   \n",
      "3  tt0369610        13                  O Mundo dos Dinossauros     BR   \n",
      "4  tt0369610        14                           Jurassic World     FR   \n",
      "\n",
      "  language        types   attributes  is_original_title  \n",
      "0       bg         None         None                0.0  \n",
      "1     None  imdbDisplay         None                0.0  \n",
      "2     None  imdbDisplay         None                0.0  \n",
      "3     None         None  short title                0.0  \n",
      "4     None  imdbDisplay         None                0.0  \n"
     ]
    }
   ],
   "source": [
    "movie_akas_df = pd.read_sql(\"\"\"\n",
    "                    SELECT *\n",
    "                    FROM\n",
    "                        movie_akas\n",
    "                    \"\"\", conn)\n",
    "df_report(movie_akas_df)"
   ]
  },
  {
   "cell_type": "markdown",
   "metadata": {},
   "source": [
    "#### Whats going on with is_original_title?"
   ]
  },
  {
   "cell_type": "code",
   "execution_count": 317,
   "metadata": {},
   "outputs": [
    {
     "data": {
      "text/plain": [
       "0.0    286978\n",
       "1.0     44700\n",
       "Name: is_original_title, dtype: int64"
      ]
     },
     "execution_count": 317,
     "metadata": {},
     "output_type": "execute_result"
    }
   ],
   "source": [
    "movie_akas_df.is_original_title.value_counts()"
   ]
  },
  {
   "cell_type": "markdown",
   "metadata": {},
   "source": [
    "#### Looks like boolean coded as 0, 1.  Only 25 missing, we probably wont use it."
   ]
  },
  {
   "cell_type": "markdown",
   "metadata": {},
   "source": [
    "#### Taking a look at region, might be important"
   ]
  },
  {
   "cell_type": "code",
   "execution_count": 318,
   "metadata": {},
   "outputs": [
    {
     "data": {
      "text/plain": [
       "US     51490\n",
       "XWW    18467\n",
       "RU     13817\n",
       "DE     11634\n",
       "FR     10990\n",
       "ES      9007\n",
       "GB      8942\n",
       "CA      8871\n",
       "PL      8691\n",
       "IN      8435\n",
       "BR      8167\n",
       "IT      7983\n",
       "GR      6311\n",
       "JP      6308\n",
       "HU      6258\n",
       "Name: region, dtype: int64"
      ]
     },
     "execution_count": 318,
     "metadata": {},
     "output_type": "execute_result"
    }
   ],
   "source": [
    "movie_akas_df.region.value_counts().sort_values(ascending=False).head(15)"
   ]
  },
  {
   "cell_type": "markdown",
   "metadata": {},
   "source": [
    "#### We should fill in missingness of all catagorical fields with 'data missing', some of this might be useful"
   ]
  },
  {
   "cell_type": "code",
   "execution_count": 319,
   "metadata": {},
   "outputs": [
    {
     "name": "stdout",
     "output_type": "stream",
     "text": [
      "<class 'pandas.core.frame.DataFrame'>\n",
      "RangeIndex: 331703 entries, 0 to 331702\n",
      "Data columns (total 8 columns):\n",
      " #   Column             Non-Null Count   Dtype  \n",
      "---  ------             --------------   -----  \n",
      " 0   movie_id           331703 non-null  object \n",
      " 1   ordering           331703 non-null  int64  \n",
      " 2   title              331703 non-null  object \n",
      " 3   region             331703 non-null  object \n",
      " 4   language           331703 non-null  object \n",
      " 5   types              331703 non-null  object \n",
      " 6   attributes         331703 non-null  object \n",
      " 7   is_original_title  331678 non-null  float64\n",
      "dtypes: float64(1), int64(1), object(6)\n",
      "memory usage: 20.2+ MB\n"
     ]
    }
   ],
   "source": [
    "fill_columns = ['region', 'language', 'types', 'attributes']\n",
    "movie_akas_df[fill_columns] = movie_akas_df[fill_columns].fillna('data missing')\n",
    "movie_akas_df.info()"
   ]
  },
  {
   "cell_type": "markdown",
   "metadata": {},
   "source": [
    "---"
   ]
  },
  {
   "cell_type": "markdown",
   "metadata": {},
   "source": [
    "## Last table in the iMDB: movie_ratings table"
   ]
  },
  {
   "cell_type": "code",
   "execution_count": 320,
   "metadata": {},
   "outputs": [
    {
     "name": "stdout",
     "output_type": "stream",
     "text": [
      "<class 'pandas.core.frame.DataFrame'>\n",
      "RangeIndex: 73856 entries, 0 to 73855\n",
      "Data columns (total 3 columns):\n",
      " #   Column         Non-Null Count  Dtype  \n",
      "---  ------         --------------  -----  \n",
      " 0   movie_id       73856 non-null  object \n",
      " 1   averagerating  73856 non-null  float64\n",
      " 2   numvotes       73856 non-null  int64  \n",
      "dtypes: float64(1), int64(1), object(1)\n",
      "memory usage: 1.7+ MB\n",
      "None\n",
      "===========================================================\n",
      "\n",
      "       averagerating      numvotes\n",
      "count   73856.000000  7.385600e+04\n",
      "mean        6.332729  3.523662e+03\n",
      "std         1.474978  3.029402e+04\n",
      "min         1.000000  5.000000e+00\n",
      "25%         5.500000  1.400000e+01\n",
      "50%         6.500000  4.900000e+01\n",
      "75%         7.400000  2.820000e+02\n",
      "max        10.000000  1.841066e+06\n",
      "===========================================================\n",
      "\n",
      "     movie_id  averagerating  numvotes\n",
      "0  tt10356526            8.3        31\n",
      "1  tt10384606            8.9       559\n",
      "2   tt1042974            6.4        20\n",
      "3   tt1043726            4.2     50352\n",
      "4   tt1060240            6.5        21\n"
     ]
    }
   ],
   "source": [
    "movie_ratings_df = pd.read_sql(\"\"\"\n",
    "                    SELECT *\n",
    "                    FROM\n",
    "                        movie_ratings\n",
    "                    \"\"\", conn)\n",
    "df_report(movie_ratings_df)"
   ]
  },
  {
   "cell_type": "markdown",
   "metadata": {},
   "source": [
    "#### No missingness, lets look at the distributions"
   ]
  },
  {
   "cell_type": "code",
   "execution_count": 321,
   "metadata": {},
   "outputs": [
    {
     "data": {
      "image/png": "[encoded data removed]",
      "text/plain": [
       "<Figure size 432x288 with 2 Axes>"
      ]
     },
     "metadata": {
      "needs_background": "light"
     },
     "output_type": "display_data"
    }
   ],
   "source": [
    "movie_ratings_df.hist();"
   ]
  },
  {
   "cell_type": "markdown",
   "metadata": {},
   "source": [
    "#### averagerating looks ok, look deeper at numvotes"
   ]
  },
  {
   "cell_type": "code",
   "execution_count": 322,
   "metadata": {},
   "outputs": [
    {
     "data": {
      "image/png": "[encoded data removed]",
      "text/plain": [
       "<Figure size 432x288 with 1 Axes>"
      ]
     },
     "metadata": {
      "needs_background": "light"
     },
     "output_type": "display_data"
    }
   ],
   "source": [
    "sns.boxplot(movie_ratings_df.numvotes);"
   ]
  },
  {
   "cell_type": "code",
   "execution_count": 323,
   "metadata": {},
   "outputs": [
    {
     "data": {
      "text/html": [
       "<div>\n",
       "<style scoped>\n",
       "    .dataframe tbody tr th:only-of-type {\n",
       "        vertical-align: middle;\n",
       "    }\n",
       "\n",
       "    .dataframe tbody tr th {\n",
       "        vertical-align: top;\n",
       "    }\n",
       "\n",
       "    .dataframe thead th {\n",
       "        text-align: right;\n",
       "    }\n",
       "</style>\n",
       "<table border=\"1\" class=\"dataframe\">\n",
       "  <thead>\n",
       "    <tr style=\"text-align: right;\">\n",
       "      <th></th>\n",
       "      <th>movie_id</th>\n",
       "      <th>averagerating</th>\n",
       "      <th>numvotes</th>\n",
       "    </tr>\n",
       "  </thead>\n",
       "  <tbody>\n",
       "    <tr>\n",
       "      <th>3140</th>\n",
       "      <td>tt1130884</td>\n",
       "      <td>8.1</td>\n",
       "      <td>1005960</td>\n",
       "    </tr>\n",
       "    <tr>\n",
       "      <th>8738</th>\n",
       "      <td>tt1345836</td>\n",
       "      <td>8.4</td>\n",
       "      <td>1387769</td>\n",
       "    </tr>\n",
       "    <tr>\n",
       "      <th>24920</th>\n",
       "      <td>tt0816692</td>\n",
       "      <td>8.6</td>\n",
       "      <td>1299334</td>\n",
       "    </tr>\n",
       "    <tr>\n",
       "      <th>38058</th>\n",
       "      <td>tt1853728</td>\n",
       "      <td>8.4</td>\n",
       "      <td>1211405</td>\n",
       "    </tr>\n",
       "    <tr>\n",
       "      <th>39356</th>\n",
       "      <td>tt0993846</td>\n",
       "      <td>8.2</td>\n",
       "      <td>1035358</td>\n",
       "    </tr>\n",
       "    <tr>\n",
       "      <th>48221</th>\n",
       "      <td>tt0848228</td>\n",
       "      <td>8.1</td>\n",
       "      <td>1183655</td>\n",
       "    </tr>\n",
       "    <tr>\n",
       "      <th>63498</th>\n",
       "      <td>tt1375666</td>\n",
       "      <td>8.8</td>\n",
       "      <td>1841066</td>\n",
       "    </tr>\n",
       "  </tbody>\n",
       "</table>\n",
       "</div>"
      ],
      "text/plain": [
       "        movie_id  averagerating  numvotes\n",
       "3140   tt1130884            8.1   1005960\n",
       "8738   tt1345836            8.4   1387769\n",
       "24920  tt0816692            8.6   1299334\n",
       "38058  tt1853728            8.4   1211405\n",
       "39356  tt0993846            8.2   1035358\n",
       "48221  tt0848228            8.1   1183655\n",
       "63498  tt1375666            8.8   1841066"
      ]
     },
     "execution_count": 323,
     "metadata": {},
     "output_type": "execute_result"
    }
   ],
   "source": [
    "movie_ratings_df.query('numvotes > 1000000')"
   ]
  },
  {
   "cell_type": "markdown",
   "metadata": {},
   "source": [
    "#### No crazy outliers, it appears to be exponential distribution, lets look at log:"
   ]
  },
  {
   "cell_type": "code",
   "execution_count": 324,
   "metadata": {},
   "outputs": [
    {
     "data": {
      "image/png": "[encoded data removed]",
      "text/plain": [
       "<Figure size 432x288 with 1 Axes>"
      ]
     },
     "metadata": {
      "needs_background": "light"
     },
     "output_type": "display_data"
    }
   ],
   "source": [
    "np.log(movie_ratings_df.numvotes).hist();"
   ]
  },
  {
   "cell_type": "markdown",
   "metadata": {},
   "source": [
    "#### Probably won't matter but lets do it anyway for potential modeling(?). Add a column for log(numvotes)"
   ]
  },
  {
   "cell_type": "code",
   "execution_count": 325,
   "metadata": {},
   "outputs": [],
   "source": [
    "movie_ratings_df['log_numvotes'] = np.log(movie_ratings_df.numvotes)"
   ]
  },
  {
   "cell_type": "code",
   "execution_count": 326,
   "metadata": {},
   "outputs": [
    {
     "name": "stdout",
     "output_type": "stream",
     "text": [
      "<class 'pandas.core.frame.DataFrame'>\n",
      "RangeIndex: 73856 entries, 0 to 73855\n",
      "Data columns (total 4 columns):\n",
      " #   Column         Non-Null Count  Dtype  \n",
      "---  ------         --------------  -----  \n",
      " 0   movie_id       73856 non-null  object \n",
      " 1   averagerating  73856 non-null  float64\n",
      " 2   numvotes       73856 non-null  int64  \n",
      " 3   log_numvotes   73856 non-null  float64\n",
      "dtypes: float64(2), int64(1), object(1)\n",
      "memory usage: 2.3+ MB\n",
      "None\n",
      "===========================================================\n",
      "\n",
      "       averagerating      numvotes  log_numvotes\n",
      "count   73856.000000  7.385600e+04  73856.000000\n",
      "mean        6.332729  3.523662e+03      4.374729\n",
      "std         1.474978  3.029402e+04      2.201129\n",
      "min         1.000000  5.000000e+00      1.609438\n",
      "25%         5.500000  1.400000e+01      2.639057\n",
      "50%         6.500000  4.900000e+01      3.891820\n",
      "75%         7.400000  2.820000e+02      5.641907\n",
      "max        10.000000  1.841066e+06     14.425855\n",
      "===========================================================\n",
      "\n",
      "     movie_id  averagerating  numvotes  log_numvotes\n",
      "0  tt10356526            8.3        31      3.433987\n",
      "1  tt10384606            8.9       559      6.326149\n",
      "2   tt1042974            6.4        20      2.995732\n",
      "3   tt1043726            4.2     50352     10.826794\n",
      "4   tt1060240            6.5        21      3.044522\n"
     ]
    }
   ],
   "source": [
    "df_report(movie_ratings_df)"
   ]
  },
  {
   "cell_type": "markdown",
   "metadata": {},
   "source": [
    "#### Done cleaning, close the db connection"
   ]
  },
  {
   "cell_type": "code",
   "execution_count": 331,
   "metadata": {},
   "outputs": [],
   "source": [
    "conn.close()"
   ]
  },
  {
   "cell_type": "markdown",
   "metadata": {},
   "source": [
    "---"
   ]
  },
  {
   "cell_type": "markdown",
   "metadata": {},
   "source": [
    "## Save the changes of iMdb cleaning both in a new db and create a csv for each table for potential use in Tableau (I couldn't get the sqlite ODBC drivers to install so will just use .csv for tableau)"
   ]
  },
  {
   "cell_type": "code",
   "execution_count": 330,
   "metadata": {},
   "outputs": [
    {
     "name": "stderr",
     "output_type": "stream",
     "text": [
      "C:\\Users\\daled\\anaconda3\\envs\\learn-env\\lib\\site-packages\\pandas\\core\\generic.py:2605: UserWarning: The spaces in these column names will not be changed. In pandas versions < 0.14, spaces were converted to underscores.\n",
      "  sql.to_sql(\n"
     ]
    }
   ],
   "source": [
    "# Save to new sql database\n",
    "conn2 = sql.connect('Reduced\\\\cleaned_imdb.db')\n",
    "\n",
    "persons_df.to_sql('persons', conn2, if_exists='replace', index=False)\n",
    "principals_df.to_sql('principals', conn2, if_exists='replace', index=False)\n",
    "known_for_df.to_sql('known_for', conn2, if_exists='replace', index=False)\n",
    "directors_df.to_sql('directors', conn2, if_exists='replace', index=False)\n",
    "writers_df.to_sql('writers', conn2, if_exists='replace', index=False)\n",
    "movie_basics_df.to_sql('movie_basics', conn2, if_exists='replace', index=False)\n",
    "movie_ratings_df.to_sql('movie_ratings', conn2, if_exists='replace', index=False)\n",
    "movie_akas_df.to_sql('movie_akas', conn2, if_exists='replace', index=False)\n",
    "conn2.close()"
   ]
  },
  {
   "cell_type": "code",
   "execution_count": 329,
   "metadata": {},
   "outputs": [],
   "source": [
    "# Save to csv\n",
    "persons_df.to_csv(f'Reduced\\\\persons.csv', index=False)\n",
    "principals_df.to_csv(f'Reduced\\\\principals.csv', index=False)\n",
    "known_for_df.to_csv(f'Reduced\\\\known_for.csv', index=False)\n",
    "directors_df.to_csv(f'Reduced\\\\directors.csv', index=False)\n",
    "writers_df.to_csv(f'Reduced\\\\writers.csv', index=False)\n",
    "movie_basics_df.to_csv(f'Reduced\\\\movie_basics.csv', index=False)\n",
    "movie_ratings_df.to_csv(f'Reduced\\\\movie_ratings.csv', index=False)\n",
    "movie_akas_df.to_csv(f'Reduced\\\\movie_akas.csv', index=False)"
   ]
  },
  {
   "cell_type": "markdown",
   "metadata": {},
   "source": [
    "---\n",
    "---"
   ]
  },
  {
   "cell_type": "code",
   "execution_count": 341,
   "metadata": {},
   "outputs": [],
   "source": [
    "conn = sql.connect('Reduced\\\\cleaned_imdb.db')"
   ]
  },
  {
   "cell_type": "code",
   "execution_count": 402,
   "metadata": {},
   "outputs": [],
   "source": [
    "df = pd.read_sql(\"\"\"\n",
    "    SELECT \n",
    "        p.primary_name,\n",
    "        pr.characters,\n",
    "        bas.primary_title,\n",
    "        bas.start_year\n",
    "    FROM\n",
    "        persons p\n",
    "    JOIN\n",
    "        principals pr\n",
    "        ON p.person_id = pr.person_id\n",
    "    JOIN\n",
    "        movie_basics bas\n",
    "        ON pr.movie_id = bas.movie_id\n",
    "    WHERE\n",
    "        p.primary_name LIKE 'Alec B%'\n",
    "    GROUP BY\n",
    "        bas.primary_title\n",
    "    ORDER BY\n",
    "        p.primary_name;\n",
    "    \"\"\", conn)"
   ]
  },
  {
   "cell_type": "code",
   "execution_count": 403,
   "metadata": {},
   "outputs": [
    {
     "data": {
      "text/html": [
       "<div>\n",
       "<style scoped>\n",
       "    .dataframe tbody tr th:only-of-type {\n",
       "        vertical-align: middle;\n",
       "    }\n",
       "\n",
       "    .dataframe tbody tr th {\n",
       "        vertical-align: top;\n",
       "    }\n",
       "\n",
       "    .dataframe thead th {\n",
       "        text-align: right;\n",
       "    }\n",
       "</style>\n",
       "<table border=\"1\" class=\"dataframe\">\n",
       "  <thead>\n",
       "    <tr style=\"text-align: right;\">\n",
       "      <th></th>\n",
       "      <th>primary_name</th>\n",
       "      <th>characters</th>\n",
       "      <th>primary_title</th>\n",
       "      <th>start_year</th>\n",
       "    </tr>\n",
       "  </thead>\n",
       "  <tbody>\n",
       "    <tr>\n",
       "      <th>0</th>\n",
       "      <td>Alec Babos</td>\n",
       "      <td>[\"Himself\"]</td>\n",
       "      <td>Last of the Independents</td>\n",
       "      <td>2012</td>\n",
       "    </tr>\n",
       "    <tr>\n",
       "      <th>1</th>\n",
       "      <td>Alec Balas</td>\n",
       "      <td>None</td>\n",
       "      <td>Alma's Secret</td>\n",
       "      <td>2017</td>\n",
       "    </tr>\n",
       "    <tr>\n",
       "      <th>2</th>\n",
       "      <td>Alec Balas</td>\n",
       "      <td>None</td>\n",
       "      <td>For The Love Of Food</td>\n",
       "      <td>2018</td>\n",
       "    </tr>\n",
       "    <tr>\n",
       "      <th>3</th>\n",
       "      <td>Alec Balas</td>\n",
       "      <td>None</td>\n",
       "      <td>Runner</td>\n",
       "      <td>2018</td>\n",
       "    </tr>\n",
       "    <tr>\n",
       "      <th>4</th>\n",
       "      <td>Alec Baldwin</td>\n",
       "      <td>[\"General Dixon\"]</td>\n",
       "      <td>Aloha</td>\n",
       "      <td>2015</td>\n",
       "    </tr>\n",
       "    <tr>\n",
       "      <th>5</th>\n",
       "      <td>Alec Baldwin</td>\n",
       "      <td>[\"Mr. Edwards\"]</td>\n",
       "      <td>AmeriQua</td>\n",
       "      <td>2013</td>\n",
       "    </tr>\n",
       "    <tr>\n",
       "      <th>6</th>\n",
       "      <td>Alec Baldwin</td>\n",
       "      <td>[\"Gino Fratelli\"]</td>\n",
       "      <td>Back in the Day</td>\n",
       "      <td>2016</td>\n",
       "    </tr>\n",
       "    <tr>\n",
       "      <th>7</th>\n",
       "      <td>Alec Baldwin</td>\n",
       "      <td>[\"Peter\"]</td>\n",
       "      <td>Before You Know It</td>\n",
       "      <td>2019</td>\n",
       "    </tr>\n",
       "    <tr>\n",
       "      <th>8</th>\n",
       "      <td>Alec Baldwin</td>\n",
       "      <td>[\"Bill Oakland\"]</td>\n",
       "      <td>Blind</td>\n",
       "      <td>2017</td>\n",
       "    </tr>\n",
       "    <tr>\n",
       "      <th>9</th>\n",
       "      <td>Alec Baldwin</td>\n",
       "      <td>[\"Hal\"]</td>\n",
       "      <td>Blue Jasmine</td>\n",
       "      <td>2013</td>\n",
       "    </tr>\n",
       "    <tr>\n",
       "      <th>10</th>\n",
       "      <td>Alec Baldwin</td>\n",
       "      <td>[\"Dr. Julian Bailes\"]</td>\n",
       "      <td>Concussion</td>\n",
       "      <td>2015</td>\n",
       "    </tr>\n",
       "    <tr>\n",
       "      <th>11</th>\n",
       "      <td>Alec Baldwin</td>\n",
       "      <td>None</td>\n",
       "      <td>Crown Vic</td>\n",
       "      <td>2019</td>\n",
       "    </tr>\n",
       "    <tr>\n",
       "      <th>12</th>\n",
       "      <td>Alec Baldwin</td>\n",
       "      <td>[\"Frank Teagarten\"]</td>\n",
       "      <td>Drunk Parents</td>\n",
       "      <td>2019</td>\n",
       "    </tr>\n",
       "    <tr>\n",
       "      <th>13</th>\n",
       "      <td>Alec Baldwin</td>\n",
       "      <td>[\"Himself\"]</td>\n",
       "      <td>Elaine Stritch: Shoot Me</td>\n",
       "      <td>2013</td>\n",
       "    </tr>\n",
       "    <tr>\n",
       "      <th>14</th>\n",
       "      <td>Alec Baldwin</td>\n",
       "      <td>None</td>\n",
       "      <td>Flatball</td>\n",
       "      <td>2016</td>\n",
       "    </tr>\n",
       "    <tr>\n",
       "      <th>15</th>\n",
       "      <td>Alec Baldwin</td>\n",
       "      <td>[\"John DeLorean\"]</td>\n",
       "      <td>Framing John DeLorean</td>\n",
       "      <td>2019</td>\n",
       "    </tr>\n",
       "    <tr>\n",
       "      <th>16</th>\n",
       "      <td>Alec Baldwin</td>\n",
       "      <td>[\"Himself\"]</td>\n",
       "      <td>Gordon Lightfoot: If You Could Read My Mind</td>\n",
       "      <td>2019</td>\n",
       "    </tr>\n",
       "    <tr>\n",
       "      <th>17</th>\n",
       "      <td>Alec Baldwin</td>\n",
       "      <td>[\"Himself\"]</td>\n",
       "      <td>Lady Luck: The Making of The Cooler</td>\n",
       "      <td>2018</td>\n",
       "    </tr>\n",
       "    <tr>\n",
       "      <th>18</th>\n",
       "      <td>Alec Baldwin</td>\n",
       "      <td>[\"Himself - Featuring\"]</td>\n",
       "      <td>Live from New York!</td>\n",
       "      <td>2015</td>\n",
       "    </tr>\n",
       "    <tr>\n",
       "      <th>19</th>\n",
       "      <td>Alec Baldwin</td>\n",
       "      <td>[\"Narrator\"]</td>\n",
       "      <td>Material of the Future</td>\n",
       "      <td>2014</td>\n",
       "    </tr>\n",
       "    <tr>\n",
       "      <th>20</th>\n",
       "      <td>Alec Baldwin</td>\n",
       "      <td>[\"Michael Lockwood\"]</td>\n",
       "      <td>Paris Can Wait</td>\n",
       "      <td>2016</td>\n",
       "    </tr>\n",
       "    <tr>\n",
       "      <th>21</th>\n",
       "      <td>Alec Baldwin</td>\n",
       "      <td>[\"Narrator\"]</td>\n",
       "      <td>Plastiki and the Material of the Future</td>\n",
       "      <td>2011</td>\n",
       "    </tr>\n",
       "    <tr>\n",
       "      <th>22</th>\n",
       "      <td>Alec Baldwin</td>\n",
       "      <td>[\"North\"]</td>\n",
       "      <td>Rise of the Guardians</td>\n",
       "      <td>2012</td>\n",
       "    </tr>\n",
       "    <tr>\n",
       "      <th>23</th>\n",
       "      <td>Alec Baldwin</td>\n",
       "      <td>[\"Dennis Dupree\"]</td>\n",
       "      <td>Rock of Ages</td>\n",
       "      <td>2012</td>\n",
       "    </tr>\n",
       "    <tr>\n",
       "      <th>24</th>\n",
       "      <td>Alec Baldwin</td>\n",
       "      <td>[\"Himself\"]</td>\n",
       "      <td>Seduced and Abandoned</td>\n",
       "      <td>2013</td>\n",
       "    </tr>\n",
       "    <tr>\n",
       "      <th>25</th>\n",
       "      <td>Alec Baldwin</td>\n",
       "      <td>[\"John Howland\"]</td>\n",
       "      <td>Still Alice</td>\n",
       "      <td>2014</td>\n",
       "    </tr>\n",
       "    <tr>\n",
       "      <th>26</th>\n",
       "      <td>Alec Baldwin</td>\n",
       "      <td>[\"Himself\"]</td>\n",
       "      <td>Teenage Paparazzo</td>\n",
       "      <td>2010</td>\n",
       "    </tr>\n",
       "    <tr>\n",
       "      <th>27</th>\n",
       "      <td>Alec Baldwin</td>\n",
       "      <td>[\"Boss Baby\"]</td>\n",
       "      <td>The Boss Baby</td>\n",
       "      <td>2017</td>\n",
       "    </tr>\n",
       "    <tr>\n",
       "      <th>28</th>\n",
       "      <td>Alec Baldwin</td>\n",
       "      <td>[\"Himself\"]</td>\n",
       "      <td>The King</td>\n",
       "      <td>2017</td>\n",
       "    </tr>\n",
       "    <tr>\n",
       "      <th>29</th>\n",
       "      <td>Alec Baldwin</td>\n",
       "      <td>[\"Narrator\"]</td>\n",
       "      <td>The Last Play at Shea</td>\n",
       "      <td>2010</td>\n",
       "    </tr>\n",
       "    <tr>\n",
       "      <th>30</th>\n",
       "      <td>Alec Baldwin</td>\n",
       "      <td>[\"Dt. McCutcheon\"]</td>\n",
       "      <td>The Private Life of a Modern Woman</td>\n",
       "      <td>2017</td>\n",
       "    </tr>\n",
       "    <tr>\n",
       "      <th>31</th>\n",
       "      <td>Alec Baldwin</td>\n",
       "      <td>[\"Detective Bill Ramstead\"]</td>\n",
       "      <td>The Public</td>\n",
       "      <td>2018</td>\n",
       "    </tr>\n",
       "    <tr>\n",
       "      <th>32</th>\n",
       "      <td>Alec Baldwin</td>\n",
       "      <td>[\"Marshall\"]</td>\n",
       "      <td>Torrente 5</td>\n",
       "      <td>2014</td>\n",
       "    </tr>\n",
       "    <tr>\n",
       "      <th>33</th>\n",
       "      <td>Alec Baldwin</td>\n",
       "      <td>[\"Himself\"]</td>\n",
       "      <td>Unchained</td>\n",
       "      <td>2017</td>\n",
       "    </tr>\n",
       "    <tr>\n",
       "      <th>34</th>\n",
       "      <td>Alec Baldwin</td>\n",
       "      <td>[\"Himself\"]</td>\n",
       "      <td>What She Said: The Art of Pauline Kael</td>\n",
       "      <td>2018</td>\n",
       "    </tr>\n",
       "    <tr>\n",
       "      <th>35</th>\n",
       "      <td>Alec Balenciaga</td>\n",
       "      <td>None</td>\n",
       "      <td>Hail To RMU: Training Camp With the Robert Mor...</td>\n",
       "      <td>2015</td>\n",
       "    </tr>\n",
       "    <tr>\n",
       "      <th>36</th>\n",
       "      <td>Alec Bandler</td>\n",
       "      <td>[\"Himself\"]</td>\n",
       "      <td>Becoming Bulletproof</td>\n",
       "      <td>2014</td>\n",
       "    </tr>\n",
       "    <tr>\n",
       "      <th>37</th>\n",
       "      <td>Alec Berg</td>\n",
       "      <td>None</td>\n",
       "      <td>The Dictator</td>\n",
       "      <td>2012</td>\n",
       "    </tr>\n",
       "    <tr>\n",
       "      <th>38</th>\n",
       "      <td>Alec Biccum</td>\n",
       "      <td>None</td>\n",
       "      <td>Night Terrors</td>\n",
       "      <td>2014</td>\n",
       "    </tr>\n",
       "    <tr>\n",
       "      <th>39</th>\n",
       "      <td>Alec Birdman</td>\n",
       "      <td>None</td>\n",
       "      <td>MMXII</td>\n",
       "      <td>2017</td>\n",
       "    </tr>\n",
       "    <tr>\n",
       "      <th>40</th>\n",
       "      <td>Alec Bowling</td>\n",
       "      <td>[\"Coach\"]</td>\n",
       "      <td>Discin'</td>\n",
       "      <td>2014</td>\n",
       "    </tr>\n",
       "    <tr>\n",
       "      <th>41</th>\n",
       "      <td>Alec Boyadiyan</td>\n",
       "      <td>None</td>\n",
       "      <td>Broken Ledge</td>\n",
       "      <td>2012</td>\n",
       "    </tr>\n",
       "    <tr>\n",
       "      <th>42</th>\n",
       "      <td>Alec Burns</td>\n",
       "      <td>[\"Alex\"]</td>\n",
       "      <td>Five Pounds</td>\n",
       "      <td>2010</td>\n",
       "    </tr>\n",
       "    <tr>\n",
       "      <th>43</th>\n",
       "      <td>Alec Butler</td>\n",
       "      <td>None</td>\n",
       "      <td>My Friend Brindley</td>\n",
       "      <td>2010</td>\n",
       "    </tr>\n",
       "  </tbody>\n",
       "</table>\n",
       "</div>"
      ],
      "text/plain": [
       "       primary_name                   characters  \\\n",
       "0        Alec Babos                  [\"Himself\"]   \n",
       "1        Alec Balas                         None   \n",
       "2        Alec Balas                         None   \n",
       "3        Alec Balas                         None   \n",
       "4      Alec Baldwin            [\"General Dixon\"]   \n",
       "5      Alec Baldwin              [\"Mr. Edwards\"]   \n",
       "6      Alec Baldwin            [\"Gino Fratelli\"]   \n",
       "7      Alec Baldwin                    [\"Peter\"]   \n",
       "8      Alec Baldwin             [\"Bill Oakland\"]   \n",
       "9      Alec Baldwin                      [\"Hal\"]   \n",
       "10     Alec Baldwin        [\"Dr. Julian Bailes\"]   \n",
       "11     Alec Baldwin                         None   \n",
       "12     Alec Baldwin          [\"Frank Teagarten\"]   \n",
       "13     Alec Baldwin                  [\"Himself\"]   \n",
       "14     Alec Baldwin                         None   \n",
       "15     Alec Baldwin            [\"John DeLorean\"]   \n",
       "16     Alec Baldwin                  [\"Himself\"]   \n",
       "17     Alec Baldwin                  [\"Himself\"]   \n",
       "18     Alec Baldwin      [\"Himself - Featuring\"]   \n",
       "19     Alec Baldwin                 [\"Narrator\"]   \n",
       "20     Alec Baldwin         [\"Michael Lockwood\"]   \n",
       "21     Alec Baldwin                 [\"Narrator\"]   \n",
       "22     Alec Baldwin                    [\"North\"]   \n",
       "23     Alec Baldwin            [\"Dennis Dupree\"]   \n",
       "24     Alec Baldwin                  [\"Himself\"]   \n",
       "25     Alec Baldwin             [\"John Howland\"]   \n",
       "26     Alec Baldwin                  [\"Himself\"]   \n",
       "27     Alec Baldwin                [\"Boss Baby\"]   \n",
       "28     Alec Baldwin                  [\"Himself\"]   \n",
       "29     Alec Baldwin                 [\"Narrator\"]   \n",
       "30     Alec Baldwin           [\"Dt. McCutcheon\"]   \n",
       "31     Alec Baldwin  [\"Detective Bill Ramstead\"]   \n",
       "32     Alec Baldwin                 [\"Marshall\"]   \n",
       "33     Alec Baldwin                  [\"Himself\"]   \n",
       "34     Alec Baldwin                  [\"Himself\"]   \n",
       "35  Alec Balenciaga                         None   \n",
       "36     Alec Bandler                  [\"Himself\"]   \n",
       "37        Alec Berg                         None   \n",
       "38      Alec Biccum                         None   \n",
       "39     Alec Birdman                         None   \n",
       "40     Alec Bowling                    [\"Coach\"]   \n",
       "41   Alec Boyadiyan                         None   \n",
       "42       Alec Burns                     [\"Alex\"]   \n",
       "43      Alec Butler                         None   \n",
       "\n",
       "                                        primary_title  start_year  \n",
       "0                            Last of the Independents        2012  \n",
       "1                                       Alma's Secret        2017  \n",
       "2                                For The Love Of Food        2018  \n",
       "3                                              Runner        2018  \n",
       "4                                               Aloha        2015  \n",
       "5                                            AmeriQua        2013  \n",
       "6                                     Back in the Day        2016  \n",
       "7                                  Before You Know It        2019  \n",
       "8                                               Blind        2017  \n",
       "9                                        Blue Jasmine        2013  \n",
       "10                                         Concussion        2015  \n",
       "11                                          Crown Vic        2019  \n",
       "12                                      Drunk Parents        2019  \n",
       "13                           Elaine Stritch: Shoot Me        2013  \n",
       "14                                           Flatball        2016  \n",
       "15                              Framing John DeLorean        2019  \n",
       "16        Gordon Lightfoot: If You Could Read My Mind        2019  \n",
       "17                Lady Luck: The Making of The Cooler        2018  \n",
       "18                                Live from New York!        2015  \n",
       "19                             Material of the Future        2014  \n",
       "20                                     Paris Can Wait        2016  \n",
       "21            Plastiki and the Material of the Future        2011  \n",
       "22                              Rise of the Guardians        2012  \n",
       "23                                       Rock of Ages        2012  \n",
       "24                              Seduced and Abandoned        2013  \n",
       "25                                        Still Alice        2014  \n",
       "26                                  Teenage Paparazzo        2010  \n",
       "27                                      The Boss Baby        2017  \n",
       "28                                           The King        2017  \n",
       "29                              The Last Play at Shea        2010  \n",
       "30                 The Private Life of a Modern Woman        2017  \n",
       "31                                         The Public        2018  \n",
       "32                                         Torrente 5        2014  \n",
       "33                                          Unchained        2017  \n",
       "34             What She Said: The Art of Pauline Kael        2018  \n",
       "35  Hail To RMU: Training Camp With the Robert Mor...        2015  \n",
       "36                               Becoming Bulletproof        2014  \n",
       "37                                       The Dictator        2012  \n",
       "38                                      Night Terrors        2014  \n",
       "39                                              MMXII        2017  \n",
       "40                                            Discin'        2014  \n",
       "41                                       Broken Ledge        2012  \n",
       "42                                        Five Pounds        2010  \n",
       "43                                 My Friend Brindley        2010  "
      ]
     },
     "execution_count": 403,
     "metadata": {},
     "output_type": "execute_result"
    }
   ],
   "source": [
    "df.head(50)"
   ]
  },
  {
   "cell_type": "code",
   "execution_count": null,
   "metadata": {},
   "outputs": [],
   "source": []
  }
 ],
 "metadata": {
  "kernelspec": {
   "display_name": "Python (learn-env)",
   "language": "python",
   "name": "learn-env"
  },
  "language_info": {
   "codemirror_mode": {
    "name": "ipython",
    "version": 3
   },
   "file_extension": ".py",
   "mimetype": "text/x-python",
   "name": "python",
   "nbconvert_exporter": "python",
   "pygments_lexer": "ipython3",
   "version": "3.8.1"
  }
 },
 "nbformat": 4,
 "nbformat_minor": 4
}
