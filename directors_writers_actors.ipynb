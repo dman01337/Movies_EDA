{
 "cells": [
  {
   "cell_type": "markdown",
   "metadata": {},
   "source": [
    "# Film Data Analysis  -  Top Directors, Writers, Actors with respect to domesting ppratio"
   ]
  },
  {
   "cell_type": "markdown",
   "metadata": {},
   "source": [
    "## Initial Setup"
   ]
  },
  {
   "cell_type": "code",
   "execution_count": 30,
   "metadata": {},
   "outputs": [],
   "source": [
    "import pandas as pd\n",
    "import sqlite3 as sql\n",
    "import matplotlib.pyplot as plt\n",
    "import seaborn as sns\n",
    "import numpy as np\n",
    "import statsmodels.api as sm\n",
    "from statsmodels.formula.api import ols\n",
    "from scipy import stats\n",
    "from statsmodels.stats.multicomp import MultiComparison\n",
    "import pandas as pd\n",
    "\n"
   ]
  },
  {
   "cell_type": "code",
   "execution_count": 31,
   "metadata": {},
   "outputs": [],
   "source": [
    "# will be looking at a lot of tables, so make a report\n",
    "def df_report(df):\n",
    "    print(df.info())\n",
    "    print('===========================================================\\n')\n",
    "    print(df.describe())\n",
    "    print('===========================================================\\n')\n",
    "    print(df.head())"
   ]
  },
  {
   "cell_type": "code",
   "execution_count": 32,
   "metadata": {},
   "outputs": [],
   "source": [
    "films = pd.read_csv('Data\\\\Reduced_Data\\\\films_2010.csv')"
   ]
  },
  {
   "cell_type": "code",
   "execution_count": 33,
   "metadata": {},
   "outputs": [
    {
     "name": "stdout",
     "output_type": "stream",
     "text": [
      "<class 'pandas.core.frame.DataFrame'>\n",
      "RangeIndex: 63849 entries, 0 to 63848\n",
      "Data columns (total 23 columns):\n",
      " #   Column             Non-Null Count  Dtype  \n",
      "---  ------             --------------  -----  \n",
      " 0   Unnamed: 0         63849 non-null  int64  \n",
      " 1   primary_title      63849 non-null  object \n",
      " 2   year               63849 non-null  float64\n",
      " 3   runtime_minutes    62741 non-null  float64\n",
      " 4   genres             62322 non-null  object \n",
      " 5   movie_id           62741 non-null  object \n",
      " 6   writer             54128 non-null  object \n",
      " 7   director           62264 non-null  object \n",
      " 8   production_budget  2440 non-null   float64\n",
      " 9   domestic_gross     4564 non-null   float64\n",
      " 10  worldwide_gross    3372 non-null   float64\n",
      " 11  studio             3381 non-null   object \n",
      " 12  foreign_gross      3398 non-null   float64\n",
      " 13  averagerating      62783 non-null  float64\n",
      " 14  numvotes           62779 non-null  float64\n",
      " 15  log_numvotes       62115 non-null  float64\n",
      " 16  actors             62741 non-null  object \n",
      " 17  ww_netprofit       2440 non-null   float64\n",
      " 18  ww_ppratio         2440 non-null   float64\n",
      " 19  d_netprofit        2440 non-null   float64\n",
      " 20  d_ppratio          2440 non-null   float64\n",
      " 21  f_netprofit        2440 non-null   float64\n",
      " 22  f_ppratio          2440 non-null   float64\n",
      "dtypes: float64(15), int64(1), object(7)\n",
      "memory usage: 11.2+ MB\n"
     ]
    }
   ],
   "source": [
    "films.info()"
   ]
  },
  {
   "cell_type": "markdown",
   "metadata": {},
   "source": [
    "#### Get rid of what we don't need for the following analyses"
   ]
  },
  {
   "cell_type": "code",
   "execution_count": 34,
   "metadata": {},
   "outputs": [],
   "source": [
    "drop_columns= ['Unnamed: 0', 'domestic_gross', 'worldwide_gross', 'foreign_gross', 'log_numvotes', \n",
    "              'ww_netprofit', 'ww_ppratio', 'f_netprofit', 'f_ppratio']\n",
    "films = films.drop(drop_columns, axis=1)"
   ]
  },
  {
   "cell_type": "code",
   "execution_count": 35,
   "metadata": {},
   "outputs": [
    {
     "name": "stdout",
     "output_type": "stream",
     "text": [
      "<class 'pandas.core.frame.DataFrame'>\n",
      "RangeIndex: 63849 entries, 0 to 63848\n",
      "Data columns (total 14 columns):\n",
      " #   Column             Non-Null Count  Dtype  \n",
      "---  ------             --------------  -----  \n",
      " 0   primary_title      63849 non-null  object \n",
      " 1   year               63849 non-null  float64\n",
      " 2   runtime_minutes    62741 non-null  float64\n",
      " 3   genres             62322 non-null  object \n",
      " 4   movie_id           62741 non-null  object \n",
      " 5   writer             54128 non-null  object \n",
      " 6   director           62264 non-null  object \n",
      " 7   production_budget  2440 non-null   float64\n",
      " 8   studio             3381 non-null   object \n",
      " 9   averagerating      62783 non-null  float64\n",
      " 10  numvotes           62779 non-null  float64\n",
      " 11  actors             62741 non-null  object \n",
      " 12  d_netprofit        2440 non-null   float64\n",
      " 13  d_ppratio          2440 non-null   float64\n",
      "dtypes: float64(7), object(7)\n",
      "memory usage: 6.8+ MB\n"
     ]
    }
   ],
   "source": [
    "films.info()"
   ]
  },
  {
   "cell_type": "markdown",
   "metadata": {},
   "source": [
    "#### Get rid of the null data in the financial columns"
   ]
  },
  {
   "cell_type": "code",
   "execution_count": 36,
   "metadata": {},
   "outputs": [],
   "source": [
    "films = films[films.d_netprofit.notna()]"
   ]
  },
  {
   "cell_type": "code",
   "execution_count": 37,
   "metadata": {},
   "outputs": [
    {
     "name": "stdout",
     "output_type": "stream",
     "text": [
      "<class 'pandas.core.frame.DataFrame'>\n",
      "Int64Index: 2440 entries, 14 to 63144\n",
      "Data columns (total 14 columns):\n",
      " #   Column             Non-Null Count  Dtype  \n",
      "---  ------             --------------  -----  \n",
      " 0   primary_title      2440 non-null   object \n",
      " 1   year               2440 non-null   float64\n",
      " 2   runtime_minutes    2036 non-null   float64\n",
      " 3   genres             2035 non-null   object \n",
      " 4   movie_id           2036 non-null   object \n",
      " 5   writer             1947 non-null   object \n",
      " 6   director           2030 non-null   object \n",
      " 7   production_budget  2440 non-null   float64\n",
      " 8   studio             1235 non-null   object \n",
      " 9   averagerating      2019 non-null   float64\n",
      " 10  numvotes           2019 non-null   float64\n",
      " 11  actors             2036 non-null   object \n",
      " 12  d_netprofit        2440 non-null   float64\n",
      " 13  d_ppratio          2440 non-null   float64\n",
      "dtypes: float64(7), object(7)\n",
      "memory usage: 285.9+ KB\n",
      "None\n",
      "===========================================================\n",
      "\n",
      "              year  runtime_minutes  production_budget  averagerating  \\\n",
      "count  2440.000000      2036.000000       2.440000e+03    2019.000000   \n",
      "mean   2013.567213       102.602652       3.597408e+07       6.226597   \n",
      "std       2.599475        21.106813       5.052121e+07       1.121469   \n",
      "min    2010.000000         1.000000       1.400000e+03       1.600000   \n",
      "25%    2011.000000        91.000000       4.800000e+06       5.600000   \n",
      "50%    2013.000000       101.000000       1.700000e+07       6.300000   \n",
      "75%    2015.000000       114.000000       4.100000e+07       7.000000   \n",
      "max    2020.000000       180.000000       4.250000e+08       9.200000   \n",
      "\n",
      "           numvotes   d_netprofit    d_ppratio  \n",
      "count  2.019000e+03  2.440000e+03  2440.000000  \n",
      "mean   8.607768e+04  7.173983e+06     0.533619  \n",
      "std    1.491193e+05  5.345167e+07     5.510658  \n",
      "min    1.000000e+00 -3.072376e+08    -1.000000  \n",
      "25%    1.202000e+03 -1.067203e+07    -0.969364  \n",
      "50%    2.947300e+04 -1.231471e+06    -0.371464  \n",
      "75%    1.017200e+05  1.268352e+07     0.609846  \n",
      "max    1.841066e+06  6.306622e+08   226.644100  \n",
      "===========================================================\n",
      "\n",
      "                      primary_title    year  runtime_minutes  \\\n",
      "14                       Foodfight!  2012.0             91.0   \n",
      "27                    The Overnight  2010.0             88.0   \n",
      "34                      On the Road  2012.0            124.0   \n",
      "38  The Secret Life of Walter Mitty  2013.0            114.0   \n",
      "42      A Walk Among the Tombstones  2014.0            114.0   \n",
      "\n",
      "                     genres   movie_id  \\\n",
      "14  Action,Animation,Comedy  tt0249516   \n",
      "27    ['Mystery', 'Comedy']  tt0326592   \n",
      "34  Adventure,Drama,Romance  tt0337692   \n",
      "38   Adventure,Comedy,Drama  tt0359950   \n",
      "42       Action,Crime,Drama  tt0365907   \n",
      "\n",
      "                                               writer           director  \\\n",
      "14  Lawrence Kasanoff, Joshua Wexler, Brent V. Fri...  Lawrence Kasanoff   \n",
      "27                       Kacey Arnold, Jed I. Goodman     Jed I. Goodman   \n",
      "34                          Jack Kerouac, Jose Rivera      Walter Salles   \n",
      "38                        Steve Conrad, James Thurber        Ben Stiller   \n",
      "42                        Lawrence Block, Scott Frank        Scott Frank   \n",
      "\n",
      "    production_budget studio  averagerating  numvotes  \\\n",
      "14         45000000.0    NaN            1.9    8248.0   \n",
      "27           200000.0    NaN            7.5      24.0   \n",
      "34         25000000.0    IFC            6.1   37886.0   \n",
      "38         91000000.0    Fox            7.3  275300.0   \n",
      "42         28000000.0    Uni            6.5  105116.0   \n",
      "\n",
      "                                               actors  d_netprofit  d_ppratio  \n",
      "14  ['Hilary Duff', 'Haylie Duff', 'Charlie Sheen'...  -45000000.0  -1.000000  \n",
      "27  ['Cary Wayne Moore', 'Michael David Lally', 'J...     909808.0   4.549040  \n",
      "34  ['Sam Riley', 'Garrett Hedlund', 'Kristen Stew...  -24279172.0  -0.971167  \n",
      "38  ['Ben Stiller', 'Kristen Wiig', 'Jon Daly', 'K...  -32763162.0  -0.360035  \n",
      "42  ['Liam Neeson', 'Dan Stevens', 'David Harbour'...   -1982315.0  -0.070797  \n"
     ]
    }
   ],
   "source": [
    "df_report(films)"
   ]
  },
  {
   "cell_type": "markdown",
   "metadata": {},
   "source": [
    "## Analyzing d_pp_ratio by director"
   ]
  },
  {
   "cell_type": "code",
   "execution_count": 38,
   "metadata": {},
   "outputs": [],
   "source": [
    "# top 15 directors by mean d_ppratio with at least 3 films\n",
    "grouped = films.groupby('director')['d_ppratio'].agg(['mean', 'count'])\n",
    "target_directors = grouped[grouped['count'] > 3].sort_values(by='mean', ascending=False).head(15).index\n",
    "films['hi_ppratio_dir'] = films['director'].isin(target_directors)\n",
    "films_dir = films"
   ]
  },
  {
   "cell_type": "code",
   "execution_count": 39,
   "metadata": {},
   "outputs": [],
   "source": [
    "hi_ppratio_dir = films_dir[films_dir['hi_ppratio_dir'] == True]['d_ppratio']\n",
    "lo_ppratio_dir = films_dir[films_dir['hi_ppratio_dir'] == False]['d_ppratio']\n",
    "stat, p = stats.ttest_ind(lo_ppratio_dir, hi_ppratio_dir)"
   ]
  },
  {
   "cell_type": "code",
   "execution_count": 40,
   "metadata": {},
   "outputs": [
    {
     "name": "stdout",
     "output_type": "stream",
     "text": [
      "mean difference: 2.072598656753139\n",
      "Confidence Interval: (0.8606741000517983, 3.28452321345448)\n"
     ]
    }
   ],
   "source": [
    "desc_hi = sm.stats.DescrStatsW(hi_ppratio_dir)\n",
    "desc_lo = sm.stats.DescrStatsW(lo_ppratio_dir)\n",
    "compare = sm.stats.CompareMeans(desc_hi, desc_lo)\n",
    "# Confidence interval for the mean difference\n",
    "# Default is 95% CI, adjust with `alpha` parameter for other levels\n",
    "conf_int = compare.tconfint_diff(usevar='unequal')\n",
    "means_diff = hi_ppratio_dir.mean() - lo_ppratio_dir.mean()\n",
    "print(f'mean difference: {means_diff}')\n",
    "print(f\"Confidence Interval: {conf_int}\")"
   ]
  },
  {
   "cell_type": "code",
   "execution_count": 41,
   "metadata": {},
   "outputs": [
    {
     "data": {
      "image/png": "[encoded data removed]",
      "text/plain": [
       "<Figure size 1008x576 with 1 Axes>"
      ]
     },
     "metadata": {
      "needs_background": "light"
     },
     "output_type": "display_data"
    }
   ],
   "source": [
    "films_dir = films_dir.query('d_ppratio < 50')\n",
    "plt.figure(figsize=(14, 8))\n",
    "boxplot = sns.boxplot(x='hi_ppratio_dir', y='d_ppratio', data=films_dir)\n",
    "boxplot.set_xticklabels(['Low Ratio', 'High Ratio'])\n",
    "#plt.hlines(y=films_dir.d_ppratio.median(), xmin=0, xmax=2, \n",
    "#           colors='blue', linestyles='dashed', lw=1, label='median d_ppratio')\n",
    "#plt.legend()\n",
    "plt.text(0.05, 0.95, f'Diff in Means: {means_diff:.2f}\\np-value: {p:.2g}', \n",
    "         ha='left', va='top', transform=plt.gca().transAxes)\n",
    "plt.title('Boxplot of Low vs. High P/P Ratio Directors', fontsize=20)\n",
    "plt.xlabel('Director Group', fontsize=18)\n",
    "plt.ylabel('Movie Profit/Production Ratio', fontsize=18)\n",
    "#plt.xticks(rotation=90)\n",
    "plt.show()"
   ]
  },
  {
   "cell_type": "code",
   "execution_count": 42,
   "metadata": {},
   "outputs": [],
   "source": [
    "films_dir = films_dir[films_dir['hi_ppratio_dir'] == True]"
   ]
  },
  {
   "cell_type": "code",
   "execution_count": 43,
   "metadata": {},
   "outputs": [
    {
     "name": "stdout",
     "output_type": "stream",
     "text": [
      "H-statistic: 10.912404092071625\n",
      "P-value: 0.6929032780223414\n",
      "There is no significant difference between the categories at alpha=0.1.\n"
     ]
    }
   ],
   "source": [
    "# Assuming 'data' is a pandas DataFrame with your categories as 'category'\n",
    "# and the dependent variable as 'y'\n",
    "H, p_value = stats.kruskal(*[group['d_ppratio'].values for name, group in films_dir.groupby('director')])\n",
    "\n",
    "print('H-statistic:', H)\n",
    "print('P-value:', p_value)\n",
    "\n",
    "if p_value < 0.1:\n",
    "    print(\"There is a significant difference between the categories at alpha=0.1.\")\n",
    "else:\n",
    "    print(\"There is no significant difference between the categories at alpha=0.1.\")"
   ]
  },
  {
   "cell_type": "code",
   "execution_count": 44,
   "metadata": {},
   "outputs": [
    {
     "ename": "NameError",
     "evalue": "name 'films_dpp' is not defined",
     "output_type": "error",
     "traceback": [
      "\u001b[1;31m---------------------------------------------------------------------------\u001b[0m",
      "\u001b[1;31mNameError\u001b[0m                                 Traceback (most recent call last)",
      "\u001b[1;32m<ipython-input-44-c273b91dbe7d>\u001b[0m in \u001b[0;36m<module>\u001b[1;34m\u001b[0m\n\u001b[0;32m      1\u001b[0m \u001b[0malpha\u001b[0m \u001b[1;33m=\u001b[0m \u001b[1;36m0.1\u001b[0m\u001b[1;33m\u001b[0m\u001b[1;33m\u001b[0m\u001b[0m\n\u001b[1;32m----> 2\u001b[1;33m \u001b[0mmc\u001b[0m \u001b[1;33m=\u001b[0m \u001b[0mMultiComparison\u001b[0m\u001b[1;33m(\u001b[0m\u001b[0mfilms_dpp\u001b[0m\u001b[1;33m[\u001b[0m\u001b[1;34m'd_ppratio'\u001b[0m\u001b[1;33m]\u001b[0m\u001b[1;33m,\u001b[0m \u001b[0mfilms_dir\u001b[0m\u001b[1;33m[\u001b[0m\u001b[1;34m'director'\u001b[0m\u001b[1;33m]\u001b[0m\u001b[1;33m)\u001b[0m\u001b[1;33m\u001b[0m\u001b[1;33m\u001b[0m\u001b[0m\n\u001b[0m\u001b[0;32m      3\u001b[0m \u001b[1;33m\u001b[0m\u001b[0m\n\u001b[0;32m      4\u001b[0m \u001b[0mresult\u001b[0m \u001b[1;33m=\u001b[0m \u001b[0mmc\u001b[0m\u001b[1;33m.\u001b[0m\u001b[0mtukeyhsd\u001b[0m\u001b[1;33m(\u001b[0m\u001b[0malpha\u001b[0m\u001b[1;33m=\u001b[0m\u001b[0malpha\u001b[0m\u001b[1;33m)\u001b[0m\u001b[1;33m\u001b[0m\u001b[1;33m\u001b[0m\u001b[0m\n\u001b[0;32m      5\u001b[0m \u001b[1;31m#result.summary()\u001b[0m\u001b[1;33m\u001b[0m\u001b[1;33m\u001b[0m\u001b[1;33m\u001b[0m\u001b[0m\n",
      "\u001b[1;31mNameError\u001b[0m: name 'films_dpp' is not defined"
     ]
    }
   ],
   "source": [
    "alpha = 0.1\n",
    "mc = MultiComparison(films_dpp['d_ppratio'], films_dir['director'])\n",
    "\n",
    "result = mc.tukeyhsd(alpha=alpha)\n",
    "#result.summary()\n",
    "tukey_summary_df = pd.DataFrame(data=result._results_table.data[1:], columns=result._results_table.data[0])\n",
    "\n",
    "# Filter the DataFrame to only show rows where 'reject' is True\n",
    "significant_results = tukey_summary_df[tukey_summary_df['reject'] == True]\n",
    "\n",
    "print(significant_results)"
   ]
  },
  {
   "cell_type": "code",
   "execution_count": 45,
   "metadata": {},
   "outputs": [
    {
     "data": {
      "image/png": "[encoded data removed]",
      "text/plain": [
       "<Figure size 1008x576 with 1 Axes>"
      ]
     },
     "metadata": {
      "needs_background": "light"
     },
     "output_type": "display_data"
    }
   ],
   "source": [
    "medians = films_dir.groupby('director')['d_ppratio'].median().sort_values(ascending=False)\n",
    "\n",
    "# Reorder the original DataFrame based on the sorted medians\n",
    "films_dir_sorted = films_dir.set_index('director').loc[medians.index].reset_index()\n",
    "\n",
    "# Plot the boxplot using the reordered DataFrame\n",
    "plt.figure(figsize=(14, 8))\n",
    "sns.boxplot(x='director', y='d_ppratio', data=films_dir_sorted)\n",
    "\n",
    "# Add a horizontal line for the overall median\n",
    "#plt.hlines(y=films_dir.d_ppratio.median(), xmin=0, xmax=14, \n",
    "#           colors='blue', linestyles='dashed', lw=1, label='median d_ppratio')\n",
    "\n",
    "# Add legend, rotate x-ticks and show the plot\n",
    "plt.title('High P/P Ratio Directors', fontsize=20)\n",
    "plt.xlabel('Director', fontsize=18)\n",
    "plt.ylabel('Movie Profit/Production Ratio', fontsize=18)\n",
    "#plt.legend()\n",
    "plt.xticks(rotation=90)\n",
    "plt.show()"
   ]
  },
  {
   "cell_type": "markdown",
   "metadata": {},
   "source": [
    "---"
   ]
  },
  {
   "cell_type": "markdown",
   "metadata": {},
   "source": [
    "---"
   ]
  },
  {
   "cell_type": "markdown",
   "metadata": {},
   "source": [
    "## Analyzing d_pp_ratio by writer"
   ]
  },
  {
   "cell_type": "code",
   "execution_count": 46,
   "metadata": {},
   "outputs": [
    {
     "data": {
      "text/html": [
       "<div>\n",
       "<style scoped>\n",
       "    .dataframe tbody tr th:only-of-type {\n",
       "        vertical-align: middle;\n",
       "    }\n",
       "\n",
       "    .dataframe tbody tr th {\n",
       "        vertical-align: top;\n",
       "    }\n",
       "\n",
       "    .dataframe thead th {\n",
       "        text-align: right;\n",
       "    }\n",
       "</style>\n",
       "<table border=\"1\" class=\"dataframe\">\n",
       "  <thead>\n",
       "    <tr style=\"text-align: right;\">\n",
       "      <th></th>\n",
       "      <th>writer</th>\n",
       "      <th>mean_ppratio</th>\n",
       "      <th>count</th>\n",
       "    </tr>\n",
       "  </thead>\n",
       "  <tbody>\n",
       "    <tr>\n",
       "      <th>2407</th>\n",
       "      <td>Oren Peli</td>\n",
       "      <td>11.325734</td>\n",
       "      <td>7</td>\n",
       "    </tr>\n",
       "    <tr>\n",
       "      <th>601</th>\n",
       "      <td>Christopher Landon</td>\n",
       "      <td>10.615487</td>\n",
       "      <td>6</td>\n",
       "    </tr>\n",
       "    <tr>\n",
       "      <th>1293</th>\n",
       "      <td>James DeMonaco</td>\n",
       "      <td>9.672991</td>\n",
       "      <td>4</td>\n",
       "    </tr>\n",
       "    <tr>\n",
       "      <th>673</th>\n",
       "      <td>Damien Chazelle</td>\n",
       "      <td>6.433448</td>\n",
       "      <td>4</td>\n",
       "    </tr>\n",
       "    <tr>\n",
       "      <th>936</th>\n",
       "      <td>Eli Roth</td>\n",
       "      <td>4.589548</td>\n",
       "      <td>4</td>\n",
       "    </tr>\n",
       "    <tr>\n",
       "      <th>2830</th>\n",
       "      <td>Scott Derrickson</td>\n",
       "      <td>4.308063</td>\n",
       "      <td>4</td>\n",
       "    </tr>\n",
       "    <tr>\n",
       "      <th>2204</th>\n",
       "      <td>Michael H. Weber</td>\n",
       "      <td>3.481493</td>\n",
       "      <td>4</td>\n",
       "    </tr>\n",
       "    <tr>\n",
       "      <th>2842</th>\n",
       "      <td>Scott Neustadter</td>\n",
       "      <td>3.481493</td>\n",
       "      <td>4</td>\n",
       "    </tr>\n",
       "    <tr>\n",
       "      <th>1784</th>\n",
       "      <td>Ken Daurio</td>\n",
       "      <td>2.728770</td>\n",
       "      <td>5</td>\n",
       "    </tr>\n",
       "    <tr>\n",
       "      <th>619</th>\n",
       "      <td>Cinco Paul</td>\n",
       "      <td>2.728770</td>\n",
       "      <td>5</td>\n",
       "    </tr>\n",
       "    <tr>\n",
       "      <th>2959</th>\n",
       "      <td>Stephen King</td>\n",
       "      <td>2.495784</td>\n",
       "      <td>4</td>\n",
       "    </tr>\n",
       "    <tr>\n",
       "      <th>1609</th>\n",
       "      <td>Jonah Hill</td>\n",
       "      <td>2.464693</td>\n",
       "      <td>4</td>\n",
       "    </tr>\n",
       "    <tr>\n",
       "      <th>3040</th>\n",
       "      <td>Suzanne Collins</td>\n",
       "      <td>2.206168</td>\n",
       "      <td>4</td>\n",
       "    </tr>\n",
       "    <tr>\n",
       "      <th>2967</th>\n",
       "      <td>Stephen Susco</td>\n",
       "      <td>2.154320</td>\n",
       "      <td>4</td>\n",
       "    </tr>\n",
       "    <tr>\n",
       "      <th>2772</th>\n",
       "      <td>Ryan Engle</td>\n",
       "      <td>1.848027</td>\n",
       "      <td>4</td>\n",
       "    </tr>\n",
       "  </tbody>\n",
       "</table>\n",
       "</div>"
      ],
      "text/plain": [
       "                  writer  mean_ppratio  count\n",
       "2407           Oren Peli     11.325734      7\n",
       "601   Christopher Landon     10.615487      6\n",
       "1293      James DeMonaco      9.672991      4\n",
       "673      Damien Chazelle      6.433448      4\n",
       "936             Eli Roth      4.589548      4\n",
       "2830    Scott Derrickson      4.308063      4\n",
       "2204    Michael H. Weber      3.481493      4\n",
       "2842    Scott Neustadter      3.481493      4\n",
       "1784          Ken Daurio      2.728770      5\n",
       "619           Cinco Paul      2.728770      5\n",
       "2959        Stephen King      2.495784      4\n",
       "1609          Jonah Hill      2.464693      4\n",
       "3040     Suzanne Collins      2.206168      4\n",
       "2967       Stephen Susco      2.154320      4\n",
       "2772          Ryan Engle      1.848027      4"
      ]
     },
     "execution_count": 46,
     "metadata": {},
     "output_type": "execute_result"
    }
   ],
   "source": [
    "films_writer = films[films['writer'].notna()]\n",
    "df_exploded = films_writer.assign(writer=films_writer['writer'].str.split(',')).explode('writer')\n",
    "\n",
    "# Step 2: Strip whitespace from the writer names\n",
    "df_exploded['writer'] = df_exploded['writer'].str.strip()\n",
    "\n",
    "# Step 3: Group by the writer names and calculate the mean of 'y'\n",
    "writers = df_exploded.groupby('writer').agg(\n",
    "    mean_ppratio=('d_ppratio', 'mean'),\n",
    "    count=('d_ppratio', 'size')\n",
    ").reset_index()\n",
    "\n",
    "# The result is a DataFrame with the mean 'y' for each writer\n",
    "writers = writers[writers['count'] > 3]\n",
    "writers = writers.sort_values(by='mean_ppratio', ascending=False).head(15)\n",
    "writers"
   ]
  },
  {
   "cell_type": "code",
   "execution_count": 47,
   "metadata": {},
   "outputs": [
    {
     "data": {
      "text/plain": [
       "['Oren Peli',\n",
       " 'Christopher Landon',\n",
       " 'James DeMonaco',\n",
       " 'Damien Chazelle',\n",
       " 'Eli Roth',\n",
       " 'Scott Derrickson',\n",
       " 'Michael H. Weber',\n",
       " 'Scott Neustadter',\n",
       " 'Ken Daurio',\n",
       " 'Cinco Paul',\n",
       " 'Stephen King',\n",
       " 'Jonah Hill',\n",
       " 'Suzanne Collins',\n",
       " 'Stephen Susco',\n",
       " 'Ryan Engle']"
      ]
     },
     "execution_count": 47,
     "metadata": {},
     "output_type": "execute_result"
    }
   ],
   "source": [
    "writer_names = writers.writer.tolist()\n",
    "writer_names"
   ]
  },
  {
   "cell_type": "code",
   "execution_count": 49,
   "metadata": {},
   "outputs": [],
   "source": [
    "def is_hi_ppratio_writer(row, writers_list):\n",
    "    # Check if the row is a string instance to avoid AttributeError\n",
    "    if isinstance(row, str):\n",
    "        # Split the 'writer' column by commas and strip whitespace\n",
    "        writers_in_row = [name.strip() for name in row.split(',')]\n",
    "        # Check if any writer in the row is in the provided list\n",
    "        return any(writer in writers_list for writer in writers_in_row)\n",
    "    else:\n",
    "        # If the row is not a string, return False or handle as needed\n",
    "        return False\n",
    "\n",
    "# Apply the function to each row in the 'writer' column\n",
    "films_writers = films\n",
    "films_writers['hi_ppratio_writer'] = films_writers['writer'].apply(is_hi_ppratio_writer, writers_list=writer_names)"
   ]
  },
  {
   "cell_type": "code",
   "execution_count": 53,
   "metadata": {},
   "outputs": [],
   "source": [
    "hi_ppratio_writer = films_writers[films_writers['hi_ppratio_writer'] == True]['d_ppratio']\n",
    "lo_ppratio_writer = films_writers[films_writers['hi_ppratio_writer'] == False]['d_ppratio']\n",
    "stat, p = stats.ttest_ind(lo_ppratio_writer, hi_ppratio_writer)"
   ]
  },
  {
   "cell_type": "code",
   "execution_count": 54,
   "metadata": {},
   "outputs": [
    {
     "name": "stdout",
     "output_type": "stream",
     "text": [
      "mean difference: 4.38197743513224\n",
      "Confidence Interval: (2.7149625989337953, 6.048992271330684)\n"
     ]
    }
   ],
   "source": [
    "desc_hi = sm.stats.DescrStatsW(hi_ppratio_writer)\n",
    "desc_lo = sm.stats.DescrStatsW(lo_ppratio_writer)\n",
    "compare = sm.stats.CompareMeans(desc_hi, desc_lo)\n",
    "# Confidence interval for the mean difference\n",
    "# Default is 95% CI, adjust with `alpha` parameter for other levels\n",
    "conf_int = compare.tconfint_diff(usevar='unequal')\n",
    "means_diff = hi_ppratio_writer.mean() - lo_ppratio_writer.mean()\n",
    "print(f'mean difference: {hi_ppratio_writer.mean() - lo_ppratio_writer.mean()}')\n",
    "print(f\"Confidence Interval: {conf_int}\")"
   ]
  },
  {
   "cell_type": "code",
   "execution_count": 59,
   "metadata": {},
   "outputs": [
    {
     "data": {
      "image/png": "[encoded data removed]",
      "text/plain": [
       "<Figure size 1008x576 with 1 Axes>"
      ]
     },
     "metadata": {
      "needs_background": "light"
     },
     "output_type": "display_data"
    }
   ],
   "source": [
    "films_writers = films_writers.query('d_ppratio < 50')\n",
    "plt.figure(figsize=(14, 8))\n",
    "boxplot = sns.boxplot(x='hi_ppratio_writer', y='d_ppratio', data=films_writers)\n",
    "boxplot.set_xticklabels(['Low Ratio', 'High Ratio'])\n",
    "#plt.hlines(y=films.d_ppratio.median(), xmin=0, xmax=1, \n",
    "#           colors='blue', linestyles='dashed', lw=1, label='median d_ppratio')\n",
    "plt.text(0.05, 0.95, f'Diff in Means: {means_diff:.2f}\\np-value: {p:.2g}', \n",
    "         ha='left', va='top', transform=plt.gca().transAxes)\n",
    "plt.title('High P/P Ratio Writers', fontsize=20)\n",
    "plt.xlabel('Writer Group', fontsize=18)\n",
    "plt.ylabel('Movie Profit/Production Ratio', fontsize=18)\n",
    "\n",
    "#plt.legend()\n",
    "#plt.xticks(rotation=90)\n",
    "plt.show()"
   ]
  },
  {
   "cell_type": "code",
   "execution_count": 60,
   "metadata": {},
   "outputs": [],
   "source": [
    "films_writers = films_writers[films_writers['hi_ppratio_writer'] == True]"
   ]
  },
  {
   "cell_type": "code",
   "execution_count": 61,
   "metadata": {},
   "outputs": [
    {
     "data": {
      "text/html": [
       "<div>\n",
       "<style scoped>\n",
       "    .dataframe tbody tr th:only-of-type {\n",
       "        vertical-align: middle;\n",
       "    }\n",
       "\n",
       "    .dataframe tbody tr th {\n",
       "        vertical-align: top;\n",
       "    }\n",
       "\n",
       "    .dataframe thead th {\n",
       "        text-align: right;\n",
       "    }\n",
       "</style>\n",
       "<table border=\"1\" class=\"dataframe\">\n",
       "  <thead>\n",
       "    <tr style=\"text-align: right;\">\n",
       "      <th></th>\n",
       "      <th>writer</th>\n",
       "      <th>d_ppratio</th>\n",
       "    </tr>\n",
       "  </thead>\n",
       "  <tbody>\n",
       "    <tr>\n",
       "      <th>0</th>\n",
       "      <td>Stephen King</td>\n",
       "      <td>1.605938</td>\n",
       "    </tr>\n",
       "    <tr>\n",
       "      <th>1</th>\n",
       "      <td>Damien Chazelle</td>\n",
       "      <td>13.416600</td>\n",
       "    </tr>\n",
       "    <tr>\n",
       "      <th>2</th>\n",
       "      <td>Scott Derrickson</td>\n",
       "      <td>0.409951</td>\n",
       "    </tr>\n",
       "    <tr>\n",
       "      <th>3</th>\n",
       "      <td>Jonah Hill</td>\n",
       "      <td>2.296373</td>\n",
       "    </tr>\n",
       "    <tr>\n",
       "      <th>4</th>\n",
       "      <td>Stephen Susco</td>\n",
       "      <td>-0.986097</td>\n",
       "    </tr>\n",
       "    <tr>\n",
       "      <th>...</th>\n",
       "      <td>...</td>\n",
       "      <td>...</td>\n",
       "    </tr>\n",
       "    <tr>\n",
       "      <th>62</th>\n",
       "      <td>Jonah Hill</td>\n",
       "      <td>0.587468</td>\n",
       "    </tr>\n",
       "    <tr>\n",
       "      <th>63</th>\n",
       "      <td>Stephen Susco</td>\n",
       "      <td>7.866745</td>\n",
       "    </tr>\n",
       "    <tr>\n",
       "      <th>64</th>\n",
       "      <td>James DeMonaco</td>\n",
       "      <td>4.345288</td>\n",
       "    </tr>\n",
       "    <tr>\n",
       "      <th>65</th>\n",
       "      <td>Ryan Engle</td>\n",
       "      <td>6.806765</td>\n",
       "    </tr>\n",
       "    <tr>\n",
       "      <th>66</th>\n",
       "      <td>Christopher Landon</td>\n",
       "      <td>2.116783</td>\n",
       "    </tr>\n",
       "  </tbody>\n",
       "</table>\n",
       "<p>67 rows × 2 columns</p>\n",
       "</div>"
      ],
      "text/plain": [
       "                writer  d_ppratio\n",
       "0         Stephen King   1.605938\n",
       "1      Damien Chazelle  13.416600\n",
       "2     Scott Derrickson   0.409951\n",
       "3           Jonah Hill   2.296373\n",
       "4        Stephen Susco  -0.986097\n",
       "..                 ...        ...\n",
       "62          Jonah Hill   0.587468\n",
       "63       Stephen Susco   7.866745\n",
       "64      James DeMonaco   4.345288\n",
       "65          Ryan Engle   6.806765\n",
       "66  Christopher Landon   2.116783\n",
       "\n",
       "[67 rows x 2 columns]"
      ]
     },
     "execution_count": 61,
     "metadata": {},
     "output_type": "execute_result"
    }
   ],
   "source": [
    "top_writers = pd.DataFrame(columns=['writer', 'd_ppratio'])\n",
    "for index, row in films_writers.iterrows():\n",
    "    # Split the 'x' column by any separators if necessary and check for names\n",
    "    for name in writer_names:\n",
    "        if name in row['writer']:\n",
    "            # If a name is found, append it and the 'y' value to the new DataFrame\n",
    "            top_writers = top_writers.append({'writer': name, 'd_ppratio': row['d_ppratio']}, ignore_index=True)\n",
    "top_writers"
   ]
  },
  {
   "cell_type": "code",
   "execution_count": 69,
   "metadata": {},
   "outputs": [
    {
     "data": {
      "text/plain": [
       "<Figure size 1008x576 with 0 Axes>"
      ]
     },
     "metadata": {},
     "output_type": "display_data"
    },
    {
     "data": {
      "image/png": "[encoded data removed]",
      "text/plain": [
       "<Figure size 1008x576 with 1 Axes>"
      ]
     },
     "metadata": {
      "needs_background": "light"
     },
     "output_type": "display_data"
    }
   ],
   "source": [
    "plt.figure(figsize=(14, 8))\n",
    "medians = top_writers.groupby('writer')['d_ppratio'].median().sort_values(ascending=False)\n",
    "top_writers_sorted = top_writers.set_index('writer').loc[medians.index].reset_index()\n",
    "plt.figure(figsize=(14, 8))\n",
    "sns.boxplot(x='writer', y='d_ppratio', data=top_writers_sorted)\n",
    "\n",
    "# Add a horizontal line for the overall median\n",
    "#plt.hlines(y=top_writers.d_ppratio.median(), xmin=0, xmax=14, \n",
    "#           colors='blue', linestyles='dashed', lw=1, label='median d_ppratio')\n",
    "\n",
    "# Add legend, rotate x-ticks and show the plot\n",
    "#plt.legend()\n",
    "plt.title('High P/P Ratio Writers', fontsize=20)\n",
    "plt.xlabel('Writer', fontsize=18)\n",
    "plt.ylabel('Movie Profit/Production Ratio', fontsize=18)\n",
    "plt.xticks(rotation=90)\n",
    "plt.show();"
   ]
  },
  {
   "cell_type": "markdown",
   "metadata": {},
   "source": [
    "---"
   ]
  },
  {
   "cell_type": "markdown",
   "metadata": {},
   "source": [
    "---"
   ]
  },
  {
   "cell_type": "markdown",
   "metadata": {},
   "source": [
    "## Analyzing d_pp_ratio by actor"
   ]
  },
  {
   "cell_type": "code",
   "execution_count": 66,
   "metadata": {},
   "outputs": [
    {
     "data": {
      "text/html": [
       "<div>\n",
       "<style scoped>\n",
       "    .dataframe tbody tr th:only-of-type {\n",
       "        vertical-align: middle;\n",
       "    }\n",
       "\n",
       "    .dataframe tbody tr th {\n",
       "        vertical-align: top;\n",
       "    }\n",
       "\n",
       "    .dataframe thead th {\n",
       "        text-align: right;\n",
       "    }\n",
       "</style>\n",
       "<table border=\"1\" class=\"dataframe\">\n",
       "  <thead>\n",
       "    <tr style=\"text-align: right;\">\n",
       "      <th></th>\n",
       "      <th>actors</th>\n",
       "      <th>mean_ppratio</th>\n",
       "      <th>count</th>\n",
       "    </tr>\n",
       "  </thead>\n",
       "  <tbody>\n",
       "    <tr>\n",
       "      <th>3271</th>\n",
       "      <td>Octavia Spencer</td>\n",
       "      <td>6.426386</td>\n",
       "      <td>5</td>\n",
       "    </tr>\n",
       "    <tr>\n",
       "      <th>678</th>\n",
       "      <td>Catherine Keener</td>\n",
       "      <td>6.018481</td>\n",
       "      <td>6</td>\n",
       "    </tr>\n",
       "    <tr>\n",
       "      <th>3673</th>\n",
       "      <td>Rose Byrne</td>\n",
       "      <td>5.387734</td>\n",
       "      <td>9</td>\n",
       "    </tr>\n",
       "    <tr>\n",
       "      <th>1325</th>\n",
       "      <td>Ethan Hawke</td>\n",
       "      <td>5.147261</td>\n",
       "      <td>8</td>\n",
       "    </tr>\n",
       "    <tr>\n",
       "      <th>2729</th>\n",
       "      <td>Mahershala Ali</td>\n",
       "      <td>4.797368</td>\n",
       "      <td>4</td>\n",
       "    </tr>\n",
       "    <tr>\n",
       "      <th>2971</th>\n",
       "      <td>Michael B. Jordan</td>\n",
       "      <td>4.468320</td>\n",
       "      <td>6</td>\n",
       "    </tr>\n",
       "    <tr>\n",
       "      <th>3344</th>\n",
       "      <td>Patrick Wilson</td>\n",
       "      <td>4.411012</td>\n",
       "      <td>9</td>\n",
       "    </tr>\n",
       "    <tr>\n",
       "      <th>3159</th>\n",
       "      <td>Naomie Harris</td>\n",
       "      <td>4.292865</td>\n",
       "      <td>4</td>\n",
       "    </tr>\n",
       "    <tr>\n",
       "      <th>1424</th>\n",
       "      <td>Gabrielle Union</td>\n",
       "      <td>4.063752</td>\n",
       "      <td>4</td>\n",
       "    </tr>\n",
       "    <tr>\n",
       "      <th>3291</th>\n",
       "      <td>Olivia Munn</td>\n",
       "      <td>3.652625</td>\n",
       "      <td>4</td>\n",
       "    </tr>\n",
       "    <tr>\n",
       "      <th>2554</th>\n",
       "      <td>Lena Headey</td>\n",
       "      <td>3.551611</td>\n",
       "      <td>5</td>\n",
       "    </tr>\n",
       "    <tr>\n",
       "      <th>1398</th>\n",
       "      <td>Frank Grillo</td>\n",
       "      <td>3.479711</td>\n",
       "      <td>4</td>\n",
       "    </tr>\n",
       "    <tr>\n",
       "      <th>2839</th>\n",
       "      <td>Mary Elizabeth Winstead</td>\n",
       "      <td>3.249877</td>\n",
       "      <td>4</td>\n",
       "    </tr>\n",
       "    <tr>\n",
       "      <th>2058</th>\n",
       "      <td>John Corbett</td>\n",
       "      <td>3.240794</td>\n",
       "      <td>4</td>\n",
       "    </tr>\n",
       "    <tr>\n",
       "      <th>2990</th>\n",
       "      <td>Michael Ealy</td>\n",
       "      <td>3.085752</td>\n",
       "      <td>4</td>\n",
       "    </tr>\n",
       "  </tbody>\n",
       "</table>\n",
       "</div>"
      ],
      "text/plain": [
       "                       actors  mean_ppratio  count\n",
       "3271          Octavia Spencer      6.426386      5\n",
       "678          Catherine Keener      6.018481      6\n",
       "3673               Rose Byrne      5.387734      9\n",
       "1325              Ethan Hawke      5.147261      8\n",
       "2729           Mahershala Ali      4.797368      4\n",
       "2971        Michael B. Jordan      4.468320      6\n",
       "3344           Patrick Wilson      4.411012      9\n",
       "3159            Naomie Harris      4.292865      4\n",
       "1424          Gabrielle Union      4.063752      4\n",
       "3291              Olivia Munn      3.652625      4\n",
       "2554              Lena Headey      3.551611      5\n",
       "1398             Frank Grillo      3.479711      4\n",
       "2839  Mary Elizabeth Winstead      3.249877      4\n",
       "2058             John Corbett      3.240794      4\n",
       "2990             Michael Ealy      3.085752      4"
      ]
     },
     "execution_count": 66,
     "metadata": {},
     "output_type": "execute_result"
    }
   ],
   "source": [
    "films_actors = films[films['actors'].notna()]\n",
    "df_exploded = films_actors.assign(actors=films_actors['actors'].str.split(',')).explode('actors')\n",
    "\n",
    "# Step 2: Strip whitespace from the writer names\n",
    "df_exploded['actors'] = df_exploded['actors'].str.strip(\" '\\\"[]\")\n",
    "\n",
    "# Step 3: Group by the writer names and calculate the mean of 'y'\n",
    "actors = df_exploded.groupby('actors').agg(\n",
    "    mean_ppratio=('d_ppratio', 'mean'),\n",
    "    count=('d_ppratio', 'size')\n",
    ").reset_index()\n",
    "\n",
    "# The result is a DataFrame with the mean 'y' for each writer\n",
    "actors = actors[actors['count'] > 3]\n",
    "actors = actors.sort_values(by='mean_ppratio', ascending=False).head(15)\n",
    "actors"
   ]
  },
  {
   "cell_type": "code",
   "execution_count": 67,
   "metadata": {},
   "outputs": [
    {
     "data": {
      "text/plain": [
       "['Octavia Spencer',\n",
       " 'Catherine Keener',\n",
       " 'Rose Byrne',\n",
       " 'Ethan Hawke',\n",
       " 'Mahershala Ali',\n",
       " 'Michael B. Jordan',\n",
       " 'Patrick Wilson',\n",
       " 'Naomie Harris',\n",
       " 'Gabrielle Union',\n",
       " 'Olivia Munn',\n",
       " 'Lena Headey',\n",
       " 'Frank Grillo',\n",
       " 'Mary Elizabeth Winstead',\n",
       " 'John Corbett',\n",
       " 'Michael Ealy']"
      ]
     },
     "execution_count": 67,
     "metadata": {},
     "output_type": "execute_result"
    }
   ],
   "source": [
    "actor_names = actors.actors.tolist()\n",
    "actor_names"
   ]
  },
  {
   "cell_type": "code",
   "execution_count": 70,
   "metadata": {},
   "outputs": [],
   "source": [
    "def is_hi_ppratio_actor(row, actors_list):\n",
    "    # Check if the row is a string instance to avoid AttributeError\n",
    "    if isinstance(row, str):\n",
    "        # Split the 'actors' column by commas and strip whitespace and quotes\n",
    "        actors_in_row = [name.strip(\" '\\\"[]\") for name in row.split(',')]\n",
    "        # Check if any actor in the row is in the provided list\n",
    "        return any(actor in actors_list for actor in actors_in_row)\n",
    "    else:\n",
    "        # If the row is not a string, return False or handle as needed\n",
    "        return False\n",
    "\n",
    "# Apply the function to each row in the 'actors' column\n",
    "films_actors = films\n",
    "films_actors['hi_ppratio_actor'] = films_actors['actors'].apply(is_hi_ppratio_actor, actors_list=actor_names)"
   ]
  },
  {
   "cell_type": "code",
   "execution_count": 75,
   "metadata": {},
   "outputs": [],
   "source": [
    "hi_ppratio_actor = films_actors[films_actors['hi_ppratio_actor'] == True]['d_ppratio']\n",
    "lo_ppratio_actor = films_actors[films_actors['hi_ppratio_actor'] == False]['d_ppratio']\n",
    "stat, p = stats.ttest_ind(lo_ppratio_actor, hi_ppratio_actor)"
   ]
  },
  {
   "cell_type": "code",
   "execution_count": 79,
   "metadata": {},
   "outputs": [
    {
     "name": "stdout",
     "output_type": "stream",
     "text": [
      "mean difference: 3.2967456652288036\n",
      "Confidence Interval: (1.6589377179524052, 4.934553612505203)\n"
     ]
    }
   ],
   "source": [
    "desc_hi = sm.stats.DescrStatsW(hi_ppratio_actor)\n",
    "desc_lo = sm.stats.DescrStatsW(lo_ppratio_actor)\n",
    "compare = sm.stats.CompareMeans(desc_hi, desc_lo)\n",
    "# Confidence interval for the mean difference\n",
    "# Default is 95% CI, adjust with `alpha` parameter for other levels\n",
    "conf_int = compare.tconfint_diff(usevar='unequal')\n",
    "means_diff = hi_ppratio_actor.mean() - lo_ppratio_actor.mean()\n",
    "print(f'mean difference: {hi_ppratio_actor.mean() - lo_ppratio_actor.mean()}')\n",
    "print(f\"Confidence Interval: {conf_int}\")"
   ]
  },
  {
   "cell_type": "code",
   "execution_count": 80,
   "metadata": {},
   "outputs": [
    {
     "data": {
      "image/png": "[encoded data removed]",
      "text/plain": [
       "<Figure size 1008x576 with 1 Axes>"
      ]
     },
     "metadata": {
      "needs_background": "light"
     },
     "output_type": "display_data"
    }
   ],
   "source": [
    "films_actors = films_actors.query('d_ppratio < 50')\n",
    "plt.figure(figsize=(14, 8))\n",
    "boxplot = sns.boxplot(x='hi_ppratio_actor', y='d_ppratio', data=films_actors)\n",
    "boxplot.set_xticklabels(['Low Ratio', 'High Ratio'])\n",
    "plt.text(0.05, 0.95, f'Diff in Means: {means_diff:.2f}\\np-value: {p:.2g}', \n",
    "         ha='left', va='top', transform=plt.gca().transAxes)\n",
    "plt.title('Boxplot of Low vs. High P/P Ratio Actors', fontsize=20)\n",
    "plt.xlabel('Actor Group', fontsize=18)\n",
    "plt.ylabel('Movie Profit/Production Ratio', fontsize=18)\n",
    "#plt.xticks(rotation=90)\n",
    "plt.show()"
   ]
  },
  {
   "cell_type": "code",
   "execution_count": 81,
   "metadata": {},
   "outputs": [],
   "source": [
    "films_actors = films_actors[films_actors['hi_ppratio_actor'] == True]"
   ]
  },
  {
   "cell_type": "code",
   "execution_count": 82,
   "metadata": {},
   "outputs": [
    {
     "data": {
      "text/html": [
       "<div>\n",
       "<style scoped>\n",
       "    .dataframe tbody tr th:only-of-type {\n",
       "        vertical-align: middle;\n",
       "    }\n",
       "\n",
       "    .dataframe tbody tr th {\n",
       "        vertical-align: top;\n",
       "    }\n",
       "\n",
       "    .dataframe thead th {\n",
       "        text-align: right;\n",
       "    }\n",
       "</style>\n",
       "<table border=\"1\" class=\"dataframe\">\n",
       "  <thead>\n",
       "    <tr style=\"text-align: right;\">\n",
       "      <th></th>\n",
       "      <th>actor</th>\n",
       "      <th>d_ppratio</th>\n",
       "    </tr>\n",
       "  </thead>\n",
       "  <tbody>\n",
       "    <tr>\n",
       "      <th>0</th>\n",
       "      <td>Mahershala Ali</td>\n",
       "      <td>-0.495822</td>\n",
       "    </tr>\n",
       "    <tr>\n",
       "      <th>1</th>\n",
       "      <td>Catherine Keener</td>\n",
       "      <td>0.386433</td>\n",
       "    </tr>\n",
       "    <tr>\n",
       "      <th>2</th>\n",
       "      <td>Patrick Wilson</td>\n",
       "      <td>-1.000000</td>\n",
       "    </tr>\n",
       "    <tr>\n",
       "      <th>3</th>\n",
       "      <td>John Corbett</td>\n",
       "      <td>0.744467</td>\n",
       "    </tr>\n",
       "    <tr>\n",
       "      <th>4</th>\n",
       "      <td>Catherine Keener</td>\n",
       "      <td>0.344525</td>\n",
       "    </tr>\n",
       "    <tr>\n",
       "      <th>...</th>\n",
       "      <td>...</td>\n",
       "      <td>...</td>\n",
       "    </tr>\n",
       "    <tr>\n",
       "      <th>75</th>\n",
       "      <td>Ethan Hawke</td>\n",
       "      <td>-0.014784</td>\n",
       "    </tr>\n",
       "    <tr>\n",
       "      <th>76</th>\n",
       "      <td>Michael B. Jordan</td>\n",
       "      <td>1.314318</td>\n",
       "    </tr>\n",
       "    <tr>\n",
       "      <th>77</th>\n",
       "      <td>Mahershala Ali</td>\n",
       "      <td>2.699138</td>\n",
       "    </tr>\n",
       "    <tr>\n",
       "      <th>78</th>\n",
       "      <td>Gabrielle Union</td>\n",
       "      <td>6.806765</td>\n",
       "    </tr>\n",
       "    <tr>\n",
       "      <th>79</th>\n",
       "      <td>Rose Byrne</td>\n",
       "      <td>0.403401</td>\n",
       "    </tr>\n",
       "  </tbody>\n",
       "</table>\n",
       "<p>80 rows × 2 columns</p>\n",
       "</div>"
      ],
      "text/plain": [
       "                actor  d_ppratio\n",
       "0      Mahershala Ali  -0.495822\n",
       "1    Catherine Keener   0.386433\n",
       "2      Patrick Wilson  -1.000000\n",
       "3        John Corbett   0.744467\n",
       "4    Catherine Keener   0.344525\n",
       "..                ...        ...\n",
       "75        Ethan Hawke  -0.014784\n",
       "76  Michael B. Jordan   1.314318\n",
       "77     Mahershala Ali   2.699138\n",
       "78    Gabrielle Union   6.806765\n",
       "79         Rose Byrne   0.403401\n",
       "\n",
       "[80 rows x 2 columns]"
      ]
     },
     "execution_count": 82,
     "metadata": {},
     "output_type": "execute_result"
    }
   ],
   "source": [
    "top_actors = pd.DataFrame(columns=['actor', 'd_ppratio'])\n",
    "for index, row in films_actors.iterrows():\n",
    "    # Split the 'x' column by any separators if necessary and check for names\n",
    "    for name in actor_names:\n",
    "        if name in row['actors']:\n",
    "            # If a name is found, append it and the 'y' value to the new DataFrame\n",
    "            top_actors = top_actors.append({'actor': name, 'd_ppratio': row['d_ppratio']}, ignore_index=True)\n",
    "top_actors"
   ]
  },
  {
   "cell_type": "code",
   "execution_count": 86,
   "metadata": {},
   "outputs": [
    {
     "data": {
      "text/plain": [
       "<Figure size 1008x576 with 0 Axes>"
      ]
     },
     "metadata": {},
     "output_type": "display_data"
    },
    {
     "data": {
      "image/png": "[encoded data removed]",
      "text/plain": [
       "<Figure size 1008x576 with 1 Axes>"
      ]
     },
     "metadata": {
      "needs_background": "light"
     },
     "output_type": "display_data"
    }
   ],
   "source": [
    "plt.figure(figsize=(14, 8))\n",
    "medians = top_actors.groupby('actor')['d_ppratio'].median().sort_values(ascending=False)\n",
    "top_actors_sorted = top_actors.set_index('actor').loc[medians.index].reset_index()\n",
    "plt.figure(figsize=(14, 8))\n",
    "sns.boxplot(x='actor', y='d_ppratio', data=top_actors_sorted)\n",
    "plt.title('High P/P Ratio Actors', fontsize=20)\n",
    "plt.xlabel('Actor', fontsize=18)\n",
    "plt.ylabel('Movie Profit/Production Ratio', fontsize=18)\n",
    "plt.xticks(rotation=90)\n",
    "plt.show()"
   ]
  },
  {
   "cell_type": "markdown",
   "metadata": {},
   "source": [
    "---"
   ]
  },
  {
   "cell_type": "markdown",
   "metadata": {},
   "source": [
    "---"
   ]
  }
 ],
 "metadata": {
  "kernelspec": {
   "display_name": "Python (learn-env)",
   "language": "python",
   "name": "learn-env"
  },
  "language_info": {
   "codemirror_mode": {
    "name": "ipython",
    "version": 3
   },
   "file_extension": ".py",
   "mimetype": "text/x-python",
   "name": "python",
   "nbconvert_exporter": "python",
   "pygments_lexer": "ipython3",
   "version": "3.8.1"
  }
 },
 "nbformat": 4,
 "nbformat_minor": 4
}
